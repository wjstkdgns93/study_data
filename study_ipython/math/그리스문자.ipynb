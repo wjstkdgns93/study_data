{
 "cells": [
  {
   "cell_type": "markdown",
   "metadata": {},
   "source": [
    "$\\alpha$와 $\\beta$의 값이 같다"
   ]
  },
  {
   "cell_type": "markdown",
   "metadata": {},
   "source": [
    "$$\\alpha = \\beta$$"
   ]
  },
  {
   "cell_type": "markdown",
   "metadata": {},
   "source": [
    "$\\alpha$\n",
    "$\\beta$\n",
    "$\\gamma$\n",
    "$\\delta$\n",
    "$\\epsilon$\n",
    "$\\zeta$\n",
    "$\\eta$\n",
    "$\\theta$\n",
    "$\\kappa$\n",
    "$\\lambda$\n",
    "$\\mu$\n",
    "$\\nu$\n",
    "$\\xi$\n",
    "$\\pi$\n",
    "$\\rho$\n",
    "$\\sigma$\n",
    "$\\tau$\n",
    "$\\phi$\n",
    "$\\chi$\n",
    "$\\psi$\n",
    "$\\omega$"
   ]
  },
  {
   "cell_type": "code",
   "execution_count": null,
   "metadata": {},
   "outputs": [],
   "source": []
  }
 ],
 "metadata": {
  "kernelspec": {
   "display_name": "Python 3",
   "language": "python",
   "name": "python3"
  },
  "language_info": {
   "codemirror_mode": {
    "name": "ipython",
    "version": 3
   },
   "file_extension": ".py",
   "mimetype": "text/x-python",
   "name": "python",
   "nbconvert_exporter": "python",
   "pygments_lexer": "ipython3",
   "version": "3.7.4"
  }
 },
 "nbformat": 4,
 "nbformat_minor": 2
}
