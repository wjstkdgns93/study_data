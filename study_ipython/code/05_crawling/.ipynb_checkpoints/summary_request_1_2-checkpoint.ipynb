{
 "cells": [
  {
   "cell_type": "markdown",
   "metadata": {},
   "source": [
    "### web crawling\n",
    "- 웹 서비스의 구조 : 서버 - 클라이언트\n",
    "- 크롤링 방법 세가지\n",
    "    - requests : json : 동적 페이지\n",
    "        - 네이버 주식 사이트에서 주가 데이터 크롤링\n",
    "            - 시각화(정규화), 상관계수\n",
    "    - requests : html : 정적 페이지\n",
    "    - selenium : webdriver\n",
    "- 크롤링 절차\n",
    "    - 웹서비스 분석 : URL\n",
    "    - 요청,응답 : str\n",
    "    - str 데이터 파싱(dict, bs obj(css-selector)) 후 데이터 프레임으로 생성"
   ]
  },
  {
   "cell_type": "code",
   "execution_count": null,
   "metadata": {},
   "outputs": [],
   "source": []
  }
 ],
 "metadata": {
  "kernelspec": {
   "display_name": "Python 3",
   "language": "python",
   "name": "python3"
  },
  "language_info": {
   "codemirror_mode": {
    "name": "ipython",
    "version": 3
   },
   "file_extension": ".py",
   "mimetype": "text/x-python",
   "name": "python",
   "nbconvert_exporter": "python",
   "pygments_lexer": "ipython3",
   "version": "3.7.4"
  }
 },
 "nbformat": 4,
 "nbformat_minor": 2
}
