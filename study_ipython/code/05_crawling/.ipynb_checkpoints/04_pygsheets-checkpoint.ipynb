{
 "cells": [
  {
   "cell_type": "code",
   "execution_count": 1,
   "metadata": {},
   "outputs": [],
   "source": [
    "import zigbang as zb"
   ]
  },
  {
   "cell_type": "code",
   "execution_count": 2,
   "metadata": {},
   "outputs": [
    {
     "data": {
      "text/html": [
       "<div>\n",
       "<style scoped>\n",
       "    .dataframe tbody tr th:only-of-type {\n",
       "        vertical-align: middle;\n",
       "    }\n",
       "\n",
       "    .dataframe tbody tr th {\n",
       "        vertical-align: top;\n",
       "    }\n",
       "\n",
       "    .dataframe thead th {\n",
       "        text-align: right;\n",
       "    }\n",
       "</style>\n",
       "<table border=\"1\" class=\"dataframe\">\n",
       "  <thead>\n",
       "    <tr style=\"text-align: right;\">\n",
       "      <th></th>\n",
       "      <th>itemId</th>\n",
       "      <th>buildingFloor</th>\n",
       "      <th>groupedItemFloor</th>\n",
       "      <th>lat</th>\n",
       "      <th>lng</th>\n",
       "      <th>sales</th>\n",
       "      <th>itemTitle</th>\n",
       "      <th>m2</th>\n",
       "      <th>p</th>\n",
       "    </tr>\n",
       "  </thead>\n",
       "  <tbody>\n",
       "    <tr>\n",
       "      <td>662</td>\n",
       "      <td>19417164</td>\n",
       "      <td>14</td>\n",
       "      <td>고층</td>\n",
       "      <td>37.552854</td>\n",
       "      <td>126.875106</td>\n",
       "      <td>63000</td>\n",
       "      <td>세안고  내부깨끗함  염창역도보10분  88도로접근용이</td>\n",
       "      <td>102</td>\n",
       "      <td>30</td>\n",
       "    </tr>\n",
       "    <tr>\n",
       "      <td>663</td>\n",
       "      <td>19417415</td>\n",
       "      <td>13</td>\n",
       "      <td>저층</td>\n",
       "      <td>37.552854</td>\n",
       "      <td>126.875106</td>\n",
       "      <td>59000</td>\n",
       "      <td>세안고 올수리 탑층 염동초,염창중학군우수  염창역도보10분</td>\n",
       "      <td>101</td>\n",
       "      <td>30</td>\n",
       "    </tr>\n",
       "  </tbody>\n",
       "</table>\n",
       "</div>"
      ],
      "text/plain": [
       "       itemId buildingFloor groupedItemFloor        lat         lng  sales  \\\n",
       "662  19417164            14               고층  37.552854  126.875106  63000   \n",
       "663  19417415            13               저층  37.552854  126.875106  59000   \n",
       "\n",
       "                            itemTitle   m2   p  \n",
       "662    세안고  내부깨끗함  염창역도보10분  88도로접근용이  102  30  \n",
       "663  세안고 올수리 탑층 염동초,염창중학군우수  염창역도보10분  101  30  "
      ]
     },
     "execution_count": 2,
     "metadata": {},
     "output_type": "execute_result"
    }
   ],
   "source": [
    "items_df = zb.crawling_apt(\"망원동\")\n",
    "items_df.tail(2)"
   ]
  },
  {
   "cell_type": "markdown",
   "metadata": {},
   "source": [
    "#### 구글 스프레드 시트에 저장\n",
    "- oauth 개념\n",
    "- oauth 인증 파일 생성\n",
    "    - https://console.developers.google.com\n",
    "    - 프로젝트생성\n",
    "    - 라이브러리 탭 선택 : Google Drive API, Google Sheets API 사용설정\n",
    "    - Oauth 동의화면\n",
    "        - 어플리케이션 이름 설정\n",
    "        - google api 범위 추가 체크 : `../auth/drive`, `../auth/spreadsheets`\n",
    "        - 저장\n",
    "    - 사용자 인증정보\n",
    "        - OAuth 클라이언트 ID 선택\n",
    "    - pygsheets 설치\n",
    "        - conda install -c marta-sd pygsheets\n",
    "        - pip install pygsheets\n",
    "- 스프레드 시트에 크롤링한 데이터 저장 및 로드"
   ]
  },
  {
   "cell_type": "code",
   "execution_count": 3,
   "metadata": {},
   "outputs": [],
   "source": [
    "import pygsheets"
   ]
  },
  {
   "cell_type": "code",
   "execution_count": 4,
   "metadata": {},
   "outputs": [
    {
     "name": "stdout",
     "output_type": "stream",
     "text": [
      "Please go to this URL and finish the authentication flow: https://accounts.google.com/o/oauth2/auth?response_type=code&client_id=218685011613-d5l4m2gfqutlb0t3092oirtdsdl4orff.apps.googleusercontent.com&redirect_uri=urn%3Aietf%3Awg%3Aoauth%3A2.0%3Aoob&scope=https%3A%2F%2Fwww.googleapis.com%2Fauth%2Fspreadsheets+https%3A%2F%2Fwww.googleapis.com%2Fauth%2Fdrive&state=HDgQA96ntd3CCF9GjdUKCnuFpN0rAj&prompt=consent&access_type=offline\n",
      "Enter the authorization code: 4/vgEz_p6vUrehMYKEHF2t4sjjW6cdxl5_TUiL0iA0eID7bbtUaEq8vmM\n"
     ]
    }
   ],
   "source": [
    "# access token 얻기\n",
    "gc = pygsheets.authorize(client_secret=\"client_secret.json\", no_cache=True)"
   ]
  },
  {
   "cell_type": "code",
   "execution_count": 5,
   "metadata": {},
   "outputs": [
    {
     "data": {
      "text/plain": [
       "<pygsheets.client.Client at 0x24415882a88>"
      ]
     },
     "execution_count": 5,
     "metadata": {},
     "output_type": "execute_result"
    }
   ],
   "source": [
    "gc"
   ]
  },
  {
   "cell_type": "code",
   "execution_count": 6,
   "metadata": {},
   "outputs": [],
   "source": [
    "# 스프레드 시트 파일 열기\n",
    "s_file = gc.open(\"zigbang\")"
   ]
  },
  {
   "cell_type": "code",
   "execution_count": 8,
   "metadata": {},
   "outputs": [
    {
     "data": {
      "text/html": [
       "<div>\n",
       "<style scoped>\n",
       "    .dataframe tbody tr th:only-of-type {\n",
       "        vertical-align: middle;\n",
       "    }\n",
       "\n",
       "    .dataframe tbody tr th {\n",
       "        vertical-align: top;\n",
       "    }\n",
       "\n",
       "    .dataframe thead th {\n",
       "        text-align: right;\n",
       "    }\n",
       "</style>\n",
       "<table border=\"1\" class=\"dataframe\">\n",
       "  <thead>\n",
       "    <tr style=\"text-align: right;\">\n",
       "      <th></th>\n",
       "      <th>sepal_length</th>\n",
       "      <th>sepal_width</th>\n",
       "      <th>petal_length</th>\n",
       "      <th>petal_width</th>\n",
       "      <th>species</th>\n",
       "    </tr>\n",
       "  </thead>\n",
       "  <tbody>\n",
       "    <tr>\n",
       "      <td>149</td>\n",
       "      <td>5.9</td>\n",
       "      <td>3.0</td>\n",
       "      <td>5.1</td>\n",
       "      <td>1.8</td>\n",
       "      <td>virginica</td>\n",
       "    </tr>\n",
       "  </tbody>\n",
       "</table>\n",
       "</div>"
      ],
      "text/plain": [
       "     sepal_length  sepal_width  petal_length  petal_width    species\n",
       "149           5.9          3.0           5.1          1.8  virginica"
      ]
     },
     "execution_count": 8,
     "metadata": {},
     "output_type": "execute_result"
    }
   ],
   "source": [
    "# 붓꽃 데이터 로드\n",
    "import seaborn as sns\n",
    "iris_df = sns.load_dataset(\"iris\")\n",
    "iris_df.tail(1)"
   ]
  },
  {
   "cell_type": "code",
   "execution_count": 12,
   "metadata": {},
   "outputs": [
    {
     "ename": "HttpError",
     "evalue": "<HttpError 400 when requesting https://sheets.googleapis.com/v4/spreadsheets/1N4dOfJbgGt24bf5E1nP69Yj06wF6Q-yFuzZaMR7gBR4:batchUpdate?fields=replies%2FaddSheet&alt=json returned \"Invalid requests[0].addSheet: 이름이 ‘iris’인 시트가 이미 있습니다. 다른 이름을 입력해 주세요.\">",
     "output_type": "error",
     "traceback": [
      "\u001b[1;31m---------------------------------------------------------------------------\u001b[0m",
      "\u001b[1;31mHttpError\u001b[0m                                 Traceback (most recent call last)",
      "\u001b[1;32m<ipython-input-12-aa851b84501c>\u001b[0m in \u001b[0;36m<module>\u001b[1;34m\u001b[0m\n\u001b[0;32m      1\u001b[0m \u001b[1;31m# iris 시트 만들기\u001b[0m\u001b[1;33m\u001b[0m\u001b[1;33m\u001b[0m\u001b[1;33m\u001b[0m\u001b[0m\n\u001b[1;32m----> 2\u001b[1;33m \u001b[0miris_sheet\u001b[0m \u001b[1;33m=\u001b[0m \u001b[0ms_file\u001b[0m\u001b[1;33m.\u001b[0m\u001b[0madd_worksheet\u001b[0m\u001b[1;33m(\u001b[0m\u001b[1;34m\"iris\"\u001b[0m\u001b[1;33m)\u001b[0m\u001b[1;33m\u001b[0m\u001b[1;33m\u001b[0m\u001b[0m\n\u001b[0m",
      "\u001b[1;32m~\\Anaconda3\\lib\\site-packages\\pygsheets\\spreadsheet.py\u001b[0m in \u001b[0;36madd_worksheet\u001b[1;34m(self, title, rows, cols, src_tuple, src_worksheet, index)\u001b[0m\n\u001b[0;32m    205\u001b[0m             \u001b[1;32mif\u001b[0m \u001b[0mindex\u001b[0m \u001b[1;32mis\u001b[0m \u001b[1;32mnot\u001b[0m \u001b[1;32mNone\u001b[0m\u001b[1;33m:\u001b[0m\u001b[1;33m\u001b[0m\u001b[1;33m\u001b[0m\u001b[0m\n\u001b[0;32m    206\u001b[0m                 \u001b[0mrequest\u001b[0m\u001b[1;33m[\u001b[0m\u001b[1;34m\"addSheet\"\u001b[0m\u001b[1;33m]\u001b[0m\u001b[1;33m[\u001b[0m\u001b[1;34m\"properties\"\u001b[0m\u001b[1;33m]\u001b[0m\u001b[1;33m[\u001b[0m\u001b[1;34m\"index\"\u001b[0m\u001b[1;33m]\u001b[0m \u001b[1;33m=\u001b[0m \u001b[0mindex\u001b[0m\u001b[1;33m\u001b[0m\u001b[1;33m\u001b[0m\u001b[0m\n\u001b[1;32m--> 207\u001b[1;33m             \u001b[0mresult\u001b[0m \u001b[1;33m=\u001b[0m \u001b[0mself\u001b[0m\u001b[1;33m.\u001b[0m\u001b[0mclient\u001b[0m\u001b[1;33m.\u001b[0m\u001b[0msheet\u001b[0m\u001b[1;33m.\u001b[0m\u001b[0mbatch_update\u001b[0m\u001b[1;33m(\u001b[0m\u001b[0mself\u001b[0m\u001b[1;33m.\u001b[0m\u001b[0mid\u001b[0m\u001b[1;33m,\u001b[0m \u001b[0mrequest\u001b[0m\u001b[1;33m,\u001b[0m \u001b[0mfields\u001b[0m\u001b[1;33m=\u001b[0m\u001b[1;34m'replies/addSheet'\u001b[0m\u001b[1;33m)\u001b[0m\u001b[1;33m\u001b[0m\u001b[1;33m\u001b[0m\u001b[0m\n\u001b[0m\u001b[0;32m    208\u001b[0m             \u001b[0mjsheet\u001b[0m\u001b[1;33m[\u001b[0m\u001b[1;34m'properties'\u001b[0m\u001b[1;33m]\u001b[0m \u001b[1;33m=\u001b[0m \u001b[0mresult\u001b[0m\u001b[1;33m[\u001b[0m\u001b[1;34m'replies'\u001b[0m\u001b[1;33m]\u001b[0m\u001b[1;33m[\u001b[0m\u001b[1;36m0\u001b[0m\u001b[1;33m]\u001b[0m\u001b[1;33m[\u001b[0m\u001b[1;34m'addSheet'\u001b[0m\u001b[1;33m]\u001b[0m\u001b[1;33m[\u001b[0m\u001b[1;34m'properties'\u001b[0m\u001b[1;33m]\u001b[0m\u001b[1;33m\u001b[0m\u001b[1;33m\u001b[0m\u001b[0m\n\u001b[0;32m    209\u001b[0m             \u001b[0mwks\u001b[0m \u001b[1;33m=\u001b[0m \u001b[0mself\u001b[0m\u001b[1;33m.\u001b[0m\u001b[0mworksheet_cls\u001b[0m\u001b[1;33m(\u001b[0m\u001b[0mself\u001b[0m\u001b[1;33m,\u001b[0m \u001b[0mjsheet\u001b[0m\u001b[1;33m)\u001b[0m\u001b[1;33m\u001b[0m\u001b[1;33m\u001b[0m\u001b[0m\n",
      "\u001b[1;32m~\\Anaconda3\\lib\\site-packages\\pygsheets\\sheet.py\u001b[0m in \u001b[0;36mbatch_update\u001b[1;34m(self, spreadsheet_id, requests, **kwargs)\u001b[0m\n\u001b[0;32m     97\u001b[0m         request = self.service.spreadsheets().batchUpdate(spreadsheetId=spreadsheet_id,\n\u001b[0;32m     98\u001b[0m                                                           body=body, **kwargs)\n\u001b[1;32m---> 99\u001b[1;33m         \u001b[1;32mreturn\u001b[0m \u001b[0mself\u001b[0m\u001b[1;33m.\u001b[0m\u001b[0m_execute_requests\u001b[0m\u001b[1;33m(\u001b[0m\u001b[0mrequest\u001b[0m\u001b[1;33m)\u001b[0m\u001b[1;33m\u001b[0m\u001b[1;33m\u001b[0m\u001b[0m\n\u001b[0m\u001b[0;32m    100\u001b[0m \u001b[1;33m\u001b[0m\u001b[0m\n\u001b[0;32m    101\u001b[0m     \u001b[1;32mdef\u001b[0m \u001b[0mcreate\u001b[0m\u001b[1;33m(\u001b[0m\u001b[0mself\u001b[0m\u001b[1;33m,\u001b[0m \u001b[0mtitle\u001b[0m\u001b[1;33m,\u001b[0m \u001b[0mtemplate\u001b[0m\u001b[1;33m=\u001b[0m\u001b[1;32mNone\u001b[0m\u001b[1;33m,\u001b[0m \u001b[1;33m**\u001b[0m\u001b[0mkwargs\u001b[0m\u001b[1;33m)\u001b[0m\u001b[1;33m:\u001b[0m\u001b[1;33m\u001b[0m\u001b[1;33m\u001b[0m\u001b[0m\n",
      "\u001b[1;32m~\\Anaconda3\\lib\\site-packages\\pygsheets\\sheet.py\u001b[0m in \u001b[0;36m_execute_requests\u001b[1;34m(self, request)\u001b[0m\n\u001b[0;32m    355\u001b[0m         \"\"\"\n\u001b[0;32m    356\u001b[0m         \u001b[1;32mtry\u001b[0m\u001b[1;33m:\u001b[0m\u001b[1;33m\u001b[0m\u001b[1;33m\u001b[0m\u001b[0m\n\u001b[1;32m--> 357\u001b[1;33m             \u001b[0mresponse\u001b[0m \u001b[1;33m=\u001b[0m \u001b[0mrequest\u001b[0m\u001b[1;33m.\u001b[0m\u001b[0mexecute\u001b[0m\u001b[1;33m(\u001b[0m\u001b[0mnum_retries\u001b[0m\u001b[1;33m=\u001b[0m\u001b[0mself\u001b[0m\u001b[1;33m.\u001b[0m\u001b[0mretries\u001b[0m\u001b[1;33m)\u001b[0m\u001b[1;33m\u001b[0m\u001b[1;33m\u001b[0m\u001b[0m\n\u001b[0m\u001b[0;32m    358\u001b[0m         \u001b[1;32mexcept\u001b[0m \u001b[0mHttpError\u001b[0m \u001b[1;32mas\u001b[0m \u001b[0merror\u001b[0m\u001b[1;33m:\u001b[0m\u001b[1;33m\u001b[0m\u001b[1;33m\u001b[0m\u001b[0m\n\u001b[0;32m    359\u001b[0m             \u001b[1;32mif\u001b[0m \u001b[0merror\u001b[0m\u001b[1;33m.\u001b[0m\u001b[0mresp\u001b[0m\u001b[1;33m[\u001b[0m\u001b[1;34m'status'\u001b[0m\u001b[1;33m]\u001b[0m \u001b[1;33m==\u001b[0m \u001b[1;34m'429'\u001b[0m \u001b[1;32mand\u001b[0m \u001b[0mself\u001b[0m\u001b[1;33m.\u001b[0m\u001b[0mcheck\u001b[0m\u001b[1;33m:\u001b[0m\u001b[1;33m\u001b[0m\u001b[1;33m\u001b[0m\u001b[0m\n",
      "\u001b[1;32m~\\Anaconda3\\lib\\site-packages\\googleapiclient\\_helpers.py\u001b[0m in \u001b[0;36mpositional_wrapper\u001b[1;34m(*args, **kwargs)\u001b[0m\n\u001b[0;32m    128\u001b[0m                 \u001b[1;32melif\u001b[0m \u001b[0mpositional_parameters_enforcement\u001b[0m \u001b[1;33m==\u001b[0m \u001b[0mPOSITIONAL_WARNING\u001b[0m\u001b[1;33m:\u001b[0m\u001b[1;33m\u001b[0m\u001b[1;33m\u001b[0m\u001b[0m\n\u001b[0;32m    129\u001b[0m                     \u001b[0mlogger\u001b[0m\u001b[1;33m.\u001b[0m\u001b[0mwarning\u001b[0m\u001b[1;33m(\u001b[0m\u001b[0mmessage\u001b[0m\u001b[1;33m)\u001b[0m\u001b[1;33m\u001b[0m\u001b[1;33m\u001b[0m\u001b[0m\n\u001b[1;32m--> 130\u001b[1;33m             \u001b[1;32mreturn\u001b[0m \u001b[0mwrapped\u001b[0m\u001b[1;33m(\u001b[0m\u001b[1;33m*\u001b[0m\u001b[0margs\u001b[0m\u001b[1;33m,\u001b[0m \u001b[1;33m**\u001b[0m\u001b[0mkwargs\u001b[0m\u001b[1;33m)\u001b[0m\u001b[1;33m\u001b[0m\u001b[1;33m\u001b[0m\u001b[0m\n\u001b[0m\u001b[0;32m    131\u001b[0m         \u001b[1;32mreturn\u001b[0m \u001b[0mpositional_wrapper\u001b[0m\u001b[1;33m\u001b[0m\u001b[1;33m\u001b[0m\u001b[0m\n\u001b[0;32m    132\u001b[0m \u001b[1;33m\u001b[0m\u001b[0m\n",
      "\u001b[1;32m~\\Anaconda3\\lib\\site-packages\\googleapiclient\\http.py\u001b[0m in \u001b[0;36mexecute\u001b[1;34m(self, http, num_retries)\u001b[0m\n\u001b[0;32m    854\u001b[0m       \u001b[0mcallback\u001b[0m\u001b[1;33m(\u001b[0m\u001b[0mresp\u001b[0m\u001b[1;33m)\u001b[0m\u001b[1;33m\u001b[0m\u001b[1;33m\u001b[0m\u001b[0m\n\u001b[0;32m    855\u001b[0m     \u001b[1;32mif\u001b[0m \u001b[0mresp\u001b[0m\u001b[1;33m.\u001b[0m\u001b[0mstatus\u001b[0m \u001b[1;33m>=\u001b[0m \u001b[1;36m300\u001b[0m\u001b[1;33m:\u001b[0m\u001b[1;33m\u001b[0m\u001b[1;33m\u001b[0m\u001b[0m\n\u001b[1;32m--> 856\u001b[1;33m       \u001b[1;32mraise\u001b[0m \u001b[0mHttpError\u001b[0m\u001b[1;33m(\u001b[0m\u001b[0mresp\u001b[0m\u001b[1;33m,\u001b[0m \u001b[0mcontent\u001b[0m\u001b[1;33m,\u001b[0m \u001b[0muri\u001b[0m\u001b[1;33m=\u001b[0m\u001b[0mself\u001b[0m\u001b[1;33m.\u001b[0m\u001b[0muri\u001b[0m\u001b[1;33m)\u001b[0m\u001b[1;33m\u001b[0m\u001b[1;33m\u001b[0m\u001b[0m\n\u001b[0m\u001b[0;32m    857\u001b[0m     \u001b[1;32mreturn\u001b[0m \u001b[0mself\u001b[0m\u001b[1;33m.\u001b[0m\u001b[0mpostproc\u001b[0m\u001b[1;33m(\u001b[0m\u001b[0mresp\u001b[0m\u001b[1;33m,\u001b[0m \u001b[0mcontent\u001b[0m\u001b[1;33m)\u001b[0m\u001b[1;33m\u001b[0m\u001b[1;33m\u001b[0m\u001b[0m\n\u001b[0;32m    858\u001b[0m \u001b[1;33m\u001b[0m\u001b[0m\n",
      "\u001b[1;31mHttpError\u001b[0m: <HttpError 400 when requesting https://sheets.googleapis.com/v4/spreadsheets/1N4dOfJbgGt24bf5E1nP69Yj06wF6Q-yFuzZaMR7gBR4:batchUpdate?fields=replies%2FaddSheet&alt=json returned \"Invalid requests[0].addSheet: 이름이 ‘iris’인 시트가 이미 있습니다. 다른 이름을 입력해 주세요.\">"
     ]
    }
   ],
   "source": [
    "# iris 시트 만들기\n",
    "iris_sheet = s_file.add_worksheet(\"iris\")"
   ]
  },
  {
   "cell_type": "code",
   "execution_count": null,
   "metadata": {},
   "outputs": [],
   "source": [
    "# iris 시트 데이터 프레임 저장\n",
    "iris_sheet.set_dataframe(iris_df, \"A1\")"
   ]
  },
  {
   "cell_type": "code",
   "execution_count": 13,
   "metadata": {},
   "outputs": [],
   "source": [
    "# 시트 삭제\n",
    "s_file.del_worksheet(s_file[0])"
   ]
  },
  {
   "cell_type": "code",
   "execution_count": 13,
   "metadata": {},
   "outputs": [],
   "source": [
    "# 직방 데이터를 크롤링 해서 저장"
   ]
  },
  {
   "cell_type": "code",
   "execution_count": 14,
   "metadata": {},
   "outputs": [
    {
     "name": "stdout",
     "output_type": "stream",
     "text": [
      "연남동\n",
      "망원동\n",
      "합정동\n",
      "성수동\n",
      "개포동\n"
     ]
    }
   ],
   "source": [
    "addrs = [\"연남동\", \"망원동\", \"합정동\", \"성수동\", \"개포동\"]\n",
    "for addr in addrs:\n",
    "    print(addr)\n",
    "    df = zb.crawling_apt(addr)\n",
    "    sheet = s_file.add_worksheet(addr)\n",
    "    sheet.set_dataframe(df, 'A1')"
   ]
  },
  {
   "cell_type": "code",
   "execution_count": 16,
   "metadata": {},
   "outputs": [],
   "source": [
    "# 데이터 가져오기"
   ]
  },
  {
   "cell_type": "code",
   "execution_count": 15,
   "metadata": {},
   "outputs": [
    {
     "data": {
      "text/html": [
       "<div>\n",
       "<style scoped>\n",
       "    .dataframe tbody tr th:only-of-type {\n",
       "        vertical-align: middle;\n",
       "    }\n",
       "\n",
       "    .dataframe tbody tr th {\n",
       "        vertical-align: top;\n",
       "    }\n",
       "\n",
       "    .dataframe thead th {\n",
       "        text-align: right;\n",
       "    }\n",
       "</style>\n",
       "<table border=\"1\" class=\"dataframe\">\n",
       "  <thead>\n",
       "    <tr style=\"text-align: right;\">\n",
       "      <th></th>\n",
       "      <th>itemId</th>\n",
       "      <th>buildingFloor</th>\n",
       "      <th>groupedItemFloor</th>\n",
       "      <th>lat</th>\n",
       "      <th>lng</th>\n",
       "      <th>sales</th>\n",
       "      <th>itemTitle</th>\n",
       "      <th>m2</th>\n",
       "      <th>p</th>\n",
       "    </tr>\n",
       "  </thead>\n",
       "  <tbody>\n",
       "    <tr>\n",
       "      <td>97</td>\n",
       "      <td>19565578</td>\n",
       "      <td>5</td>\n",
       "      <td>저층</td>\n",
       "      <td>37.480562</td>\n",
       "      <td>127.059072</td>\n",
       "      <td>260000</td>\n",
       "      <td>38배정, 추분 5,820만원</td>\n",
       "      <td>56</td>\n",
       "      <td>16</td>\n",
       "    </tr>\n",
       "    <tr>\n",
       "      <td>98</td>\n",
       "      <td>19505295</td>\n",
       "      <td>20</td>\n",
       "      <td>고층</td>\n",
       "      <td>37.481287</td>\n",
       "      <td>127.063979</td>\n",
       "      <td>190000</td>\n",
       "      <td>25, 세안고 매매</td>\n",
       "      <td>80</td>\n",
       "      <td>24</td>\n",
       "    </tr>\n",
       "  </tbody>\n",
       "</table>\n",
       "</div>"
      ],
      "text/plain": [
       "      itemId  buildingFloor groupedItemFloor        lat         lng   sales  \\\n",
       "97  19565578              5               저층  37.480562  127.059072  260000   \n",
       "98  19505295             20               고층  37.481287  127.063979  190000   \n",
       "\n",
       "           itemTitle  m2   p  \n",
       "97  38배정, 추분 5,820만원  56  16  \n",
       "98        25, 세안고 매매  80  24  "
      ]
     },
     "execution_count": 15,
     "metadata": {},
     "output_type": "execute_result"
    }
   ],
   "source": [
    "sheet = s_file.worksheet_by_title(\"개포동\")\n",
    "load_df = sheet.get_as_df()\n",
    "load_df.tail(2)"
   ]
  },
  {
   "cell_type": "code",
   "execution_count": null,
   "metadata": {},
   "outputs": [],
   "source": []
  },
  {
   "cell_type": "code",
   "execution_count": 16,
   "metadata": {},
   "outputs": [
    {
     "data": {
      "text/plain": [
       "442"
      ]
     },
     "execution_count": 16,
     "metadata": {},
     "output_type": "execute_result"
    }
   ],
   "source": [
    "df = zb.crawling_apt(\"개포동\")\n",
    "len(df)"
   ]
  },
  {
   "cell_type": "code",
   "execution_count": 17,
   "metadata": {},
   "outputs": [
    {
     "data": {
      "text/html": [
       "<div>\n",
       "<style scoped>\n",
       "    .dataframe tbody tr th:only-of-type {\n",
       "        vertical-align: middle;\n",
       "    }\n",
       "\n",
       "    .dataframe tbody tr th {\n",
       "        vertical-align: top;\n",
       "    }\n",
       "\n",
       "    .dataframe thead th {\n",
       "        text-align: right;\n",
       "    }\n",
       "</style>\n",
       "<table border=\"1\" class=\"dataframe\">\n",
       "  <thead>\n",
       "    <tr style=\"text-align: right;\">\n",
       "      <th></th>\n",
       "      <th>itemId</th>\n",
       "      <th>buildingFloor</th>\n",
       "      <th>groupedItemFloor</th>\n",
       "      <th>lat</th>\n",
       "      <th>lng</th>\n",
       "      <th>sales</th>\n",
       "      <th>itemTitle</th>\n",
       "      <th>m2</th>\n",
       "      <th>p</th>\n",
       "    </tr>\n",
       "  </thead>\n",
       "  <tbody>\n",
       "    <tr>\n",
       "      <td>437</td>\n",
       "      <td>18739555</td>\n",
       "      <td>28</td>\n",
       "      <td>중층</td>\n",
       "      <td>37.484165</td>\n",
       "      <td>127.067322</td>\n",
       "      <td>230000</td>\n",
       "      <td>이전고시후 잔금</td>\n",
       "      <td>103</td>\n",
       "      <td>31</td>\n",
       "    </tr>\n",
       "    <tr>\n",
       "      <td>438</td>\n",
       "      <td>19355619</td>\n",
       "      <td>15</td>\n",
       "      <td>고층</td>\n",
       "      <td>37.483973</td>\n",
       "      <td>127.056013</td>\n",
       "      <td>230000</td>\n",
       "      <td>통합재건축 대지지분크고 초중고인접</td>\n",
       "      <td>110</td>\n",
       "      <td>33</td>\n",
       "    </tr>\n",
       "    <tr>\n",
       "      <td>439</td>\n",
       "      <td>19355650</td>\n",
       "      <td>13</td>\n",
       "      <td>고층</td>\n",
       "      <td>37.482669</td>\n",
       "      <td>127.054424</td>\n",
       "      <td>200000</td>\n",
       "      <td>입주가능 통합재건축 초중고인접</td>\n",
       "      <td>102</td>\n",
       "      <td>30</td>\n",
       "    </tr>\n",
       "    <tr>\n",
       "      <td>440</td>\n",
       "      <td>19449724</td>\n",
       "      <td>12</td>\n",
       "      <td>중층</td>\n",
       "      <td>37.484514</td>\n",
       "      <td>127.054172</td>\n",
       "      <td>210000</td>\n",
       "      <td>대지지분크고 양재천인접 개일초 구룡중</td>\n",
       "      <td>107</td>\n",
       "      <td>32</td>\n",
       "    </tr>\n",
       "    <tr>\n",
       "      <td>441</td>\n",
       "      <td>19482010</td>\n",
       "      <td>None</td>\n",
       "      <td>None</td>\n",
       "      <td>37.451727</td>\n",
       "      <td>127.057638</td>\n",
       "      <td>145000</td>\n",
       "      <td>안정적인 중층,  숲과 하천이 있는 녹지신축아파트</td>\n",
       "      <td>111</td>\n",
       "      <td>33</td>\n",
       "    </tr>\n",
       "  </tbody>\n",
       "</table>\n",
       "</div>"
      ],
      "text/plain": [
       "       itemId buildingFloor groupedItemFloor        lat         lng   sales  \\\n",
       "437  18739555            28               중층  37.484165  127.067322  230000   \n",
       "438  19355619            15               고층  37.483973  127.056013  230000   \n",
       "439  19355650            13               고층  37.482669  127.054424  200000   \n",
       "440  19449724            12               중층  37.484514  127.054172  210000   \n",
       "441  19482010          None             None  37.451727  127.057638  145000   \n",
       "\n",
       "                       itemTitle   m2   p  \n",
       "437                     이전고시후 잔금  103  31  \n",
       "438           통합재건축 대지지분크고 초중고인접  110  33  \n",
       "439             입주가능 통합재건축 초중고인접  102  30  \n",
       "440         대지지분크고 양재천인접 개일초 구룡중  107  32  \n",
       "441  안정적인 중층,  숲과 하천이 있는 녹지신축아파트  111  33  "
      ]
     },
     "execution_count": 17,
     "metadata": {},
     "output_type": "execute_result"
    }
   ],
   "source": [
    "df.tail()"
   ]
  },
  {
   "cell_type": "code",
   "execution_count": 18,
   "metadata": {},
   "outputs": [
    {
     "data": {
      "text/html": [
       "<div>\n",
       "<style scoped>\n",
       "    .dataframe tbody tr th:only-of-type {\n",
       "        vertical-align: middle;\n",
       "    }\n",
       "\n",
       "    .dataframe tbody tr th {\n",
       "        vertical-align: top;\n",
       "    }\n",
       "\n",
       "    .dataframe thead th {\n",
       "        text-align: right;\n",
       "    }\n",
       "</style>\n",
       "<table border=\"1\" class=\"dataframe\">\n",
       "  <thead>\n",
       "    <tr style=\"text-align: right;\">\n",
       "      <th></th>\n",
       "      <th>itemId</th>\n",
       "      <th>buildingFloor</th>\n",
       "      <th>groupedItemFloor</th>\n",
       "      <th>lat</th>\n",
       "      <th>lng</th>\n",
       "      <th>sales</th>\n",
       "      <th>itemTitle</th>\n",
       "      <th>m2</th>\n",
       "      <th>p</th>\n",
       "    </tr>\n",
       "  </thead>\n",
       "  <tbody>\n",
       "    <tr>\n",
       "      <td>0</td>\n",
       "      <td>18749864</td>\n",
       "      <td>35</td>\n",
       "      <td>고층</td>\n",
       "      <td>37.481287</td>\n",
       "      <td>127.063979</td>\n",
       "      <td>245000</td>\n",
       "      <td>34풀에어컨,보증금조정가능,커뮤니시설근접동</td>\n",
       "      <td>113</td>\n",
       "      <td>34</td>\n",
       "    </tr>\n",
       "    <tr>\n",
       "      <td>1</td>\n",
       "      <td>18753960</td>\n",
       "      <td>29</td>\n",
       "      <td>고층</td>\n",
       "      <td>37.481287</td>\n",
       "      <td>127.063979</td>\n",
       "      <td>248000</td>\n",
       "      <td>34 입주가능 방4개 로얄동 탁트인대모산전망 개일초배정</td>\n",
       "      <td>115</td>\n",
       "      <td>34</td>\n",
       "    </tr>\n",
       "    <tr>\n",
       "      <td>2</td>\n",
       "      <td>18754013</td>\n",
       "      <td>35</td>\n",
       "      <td>고층</td>\n",
       "      <td>37.481287</td>\n",
       "      <td>127.063979</td>\n",
       "      <td>320000</td>\n",
       "      <td>43 융자무,귀한전세,커뮤니시설근접동,공원전망뷰</td>\n",
       "      <td>152</td>\n",
       "      <td>45</td>\n",
       "    </tr>\n",
       "    <tr>\n",
       "      <td>3</td>\n",
       "      <td>18754031</td>\n",
       "      <td>23</td>\n",
       "      <td>고층</td>\n",
       "      <td>37.481287</td>\n",
       "      <td>127.063979</td>\n",
       "      <td>248000</td>\n",
       "      <td>34 ,강추 개일초 급매!전세안고 투자</td>\n",
       "      <td>113</td>\n",
       "      <td>34</td>\n",
       "    </tr>\n",
       "    <tr>\n",
       "      <td>4</td>\n",
       "      <td>18810386</td>\n",
       "      <td>29</td>\n",
       "      <td>중층</td>\n",
       "      <td>37.481287</td>\n",
       "      <td>127.063979</td>\n",
       "      <td>242000</td>\n",
       "      <td>블레스티지 34평세끼고,급매,인기좋은동,조식서비스</td>\n",
       "      <td>113</td>\n",
       "      <td>34</td>\n",
       "    </tr>\n",
       "    <tr>\n",
       "      <td>...</td>\n",
       "      <td>...</td>\n",
       "      <td>...</td>\n",
       "      <td>...</td>\n",
       "      <td>...</td>\n",
       "      <td>...</td>\n",
       "      <td>...</td>\n",
       "      <td>...</td>\n",
       "      <td>...</td>\n",
       "      <td>...</td>\n",
       "    </tr>\n",
       "    <tr>\n",
       "      <td>94</td>\n",
       "      <td>19788763</td>\n",
       "      <td>17</td>\n",
       "      <td>중층</td>\n",
       "      <td>37.451064</td>\n",
       "      <td>127.064464</td>\n",
       "      <td>150000</td>\n",
       "      <td>세입자/협의/남향/</td>\n",
       "      <td>135</td>\n",
       "      <td>40</td>\n",
       "    </tr>\n",
       "    <tr>\n",
       "      <td>95</td>\n",
       "      <td>19882672</td>\n",
       "      <td>7</td>\n",
       "      <td>저층</td>\n",
       "      <td>37.481287</td>\n",
       "      <td>127.063979</td>\n",
       "      <td>175000</td>\n",
       "      <td>20p 입주가능매매 강남8학군 최고급커뮤니티 신혼부부추천</td>\n",
       "      <td>67</td>\n",
       "      <td>20</td>\n",
       "    </tr>\n",
       "    <tr>\n",
       "      <td>96</td>\n",
       "      <td>19882705</td>\n",
       "      <td>35</td>\n",
       "      <td>고층</td>\n",
       "      <td>37.481287</td>\n",
       "      <td>127.063979</td>\n",
       "      <td>350000</td>\n",
       "      <td>45p 실매물 전세안고매매 투자가치좋은집 최고급커뮤니티</td>\n",
       "      <td>151</td>\n",
       "      <td>45</td>\n",
       "    </tr>\n",
       "    <tr>\n",
       "      <td>97</td>\n",
       "      <td>19565578</td>\n",
       "      <td>5</td>\n",
       "      <td>저층</td>\n",
       "      <td>37.480562</td>\n",
       "      <td>127.059072</td>\n",
       "      <td>260000</td>\n",
       "      <td>38배정, 추분 5,820만원</td>\n",
       "      <td>56</td>\n",
       "      <td>16</td>\n",
       "    </tr>\n",
       "    <tr>\n",
       "      <td>98</td>\n",
       "      <td>19505295</td>\n",
       "      <td>20</td>\n",
       "      <td>고층</td>\n",
       "      <td>37.481287</td>\n",
       "      <td>127.063979</td>\n",
       "      <td>190000</td>\n",
       "      <td>25, 세안고 매매</td>\n",
       "      <td>80</td>\n",
       "      <td>24</td>\n",
       "    </tr>\n",
       "  </tbody>\n",
       "</table>\n",
       "<p>99 rows × 9 columns</p>\n",
       "</div>"
      ],
      "text/plain": [
       "      itemId  buildingFloor groupedItemFloor        lat         lng   sales  \\\n",
       "0   18749864             35               고층  37.481287  127.063979  245000   \n",
       "1   18753960             29               고층  37.481287  127.063979  248000   \n",
       "2   18754013             35               고층  37.481287  127.063979  320000   \n",
       "3   18754031             23               고층  37.481287  127.063979  248000   \n",
       "4   18810386             29               중층  37.481287  127.063979  242000   \n",
       "..       ...            ...              ...        ...         ...     ...   \n",
       "94  19788763             17               중층  37.451064  127.064464  150000   \n",
       "95  19882672              7               저층  37.481287  127.063979  175000   \n",
       "96  19882705             35               고층  37.481287  127.063979  350000   \n",
       "97  19565578              5               저층  37.480562  127.059072  260000   \n",
       "98  19505295             20               고층  37.481287  127.063979  190000   \n",
       "\n",
       "                          itemTitle   m2   p  \n",
       "0           34풀에어컨,보증금조정가능,커뮤니시설근접동  113  34  \n",
       "1    34 입주가능 방4개 로얄동 탁트인대모산전망 개일초배정  115  34  \n",
       "2        43 융자무,귀한전세,커뮤니시설근접동,공원전망뷰  152  45  \n",
       "3            34 ,강추 개일초 급매!전세안고 투자   113  34  \n",
       "4      블레스티지 34평세끼고,급매,인기좋은동,조식서비스   113  34  \n",
       "..                              ...  ...  ..  \n",
       "94                       세입자/협의/남향/  135  40  \n",
       "95  20p 입주가능매매 강남8학군 최고급커뮤니티 신혼부부추천   67  20  \n",
       "96   45p 실매물 전세안고매매 투자가치좋은집 최고급커뮤니티  151  45  \n",
       "97                 38배정, 추분 5,820만원   56  16  \n",
       "98                       25, 세안고 매매   80  24  \n",
       "\n",
       "[99 rows x 9 columns]"
      ]
     },
     "execution_count": 18,
     "metadata": {},
     "output_type": "execute_result"
    }
   ],
   "source": [
    "sheet = s_file.worksheet_by_title(\"개포동\")\n",
    "load_df = sheet.get_as_df()\n",
    "load_df"
   ]
  },
  {
   "cell_type": "code",
   "execution_count": null,
   "metadata": {},
   "outputs": [],
   "source": []
  },
  {
   "cell_type": "code",
   "execution_count": null,
   "metadata": {},
   "outputs": [],
   "source": []
  },
  {
   "cell_type": "code",
   "execution_count": null,
   "metadata": {},
   "outputs": [],
   "source": []
  },
  {
   "cell_type": "code",
   "execution_count": null,
   "metadata": {},
   "outputs": [],
   "source": []
  },
  {
   "cell_type": "code",
   "execution_count": null,
   "metadata": {},
   "outputs": [],
   "source": []
  }
 ],
 "metadata": {
  "kernelspec": {
   "display_name": "Python 3",
   "language": "python",
   "name": "python3"
  },
  "language_info": {
   "codemirror_mode": {
    "name": "ipython",
    "version": 3
   },
   "file_extension": ".py",
   "mimetype": "text/x-python",
   "name": "python",
   "nbconvert_exporter": "python",
   "pygments_lexer": "ipython3",
   "version": "3.7.4"
  }
 },
 "nbformat": 4,
 "nbformat_minor": 2
}
