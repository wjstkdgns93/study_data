{
 "cells": [
  {
   "cell_type": "code",
   "execution_count": 2,
   "metadata": {},
   "outputs": [],
   "source": [
    "category, date, page = 100, 20191121, 1\n",
    "\n",
    "url = \"https://news.naver.com/main/list.nhn?\\\n",
    "mode=LSD&mid=sec&sid1={}&date={}&page={}\".format(category, date, page)"
   ]
  },
  {
   "cell_type": "code",
   "execution_count": 3,
   "metadata": {},
   "outputs": [],
   "source": [
    "driver = webdriver.Chrome()\n",
    "driver.get(url)"
   ]
  },
  {
   "cell_type": "code",
   "execution_count": 16,
   "metadata": {
    "scrolled": true
   },
   "outputs": [
    {
     "data": {
      "text/plain": [
       "20"
      ]
     },
     "execution_count": 16,
     "metadata": {},
     "output_type": "execute_result"
    }
   ],
   "source": [
    "articles = driver.find_elements_by_css_selector(\".list_body > ul > li\")\n",
    "len(articles)"
   ]
  },
  {
   "cell_type": "code",
   "execution_count": 19,
   "metadata": {},
   "outputs": [
    {
     "data": {
      "text/plain": [
       "('[이슈 따라잡기] 황교안, 이틀째 단식투쟁…“절체절명 국가위기 막겠다”',\n",
       " 'https://news.naver.com/main/read.nhn?mode=LSD&mid=sec&sid1=100&oid=374&aid=0000198702')"
      ]
     },
     "execution_count": 19,
     "metadata": {},
     "output_type": "execute_result"
    }
   ],
   "source": [
    "title = articles[0].find_element_by_css_selector(\"dt:not(.photo) > a\").text\n",
    "link = articles[0].find_element_by_css_selector(\"dt:not(.photo) > a\")\\\n",
    ".get_attribute(\"href\")\n",
    "title, link"
   ]
  },
  {
   "cell_type": "code",
   "execution_count": 22,
   "metadata": {},
   "outputs": [],
   "source": [
    "response = requests.get(link)\n",
    "dom = BeautifulSoup(response.content, \"html.parser\")"
   ]
  },
  {
   "cell_type": "code",
   "execution_count": 27,
   "metadata": {},
   "outputs": [
    {
     "data": {
      "text/plain": [
       "'■ 용감한 토크쇼 직설진행 : 임종윤출연 : 김수민 시사평론가Q. 황교안, 삭발에 단식까지…그 다음 순서는?황교안 단식 시작…\"죽기를 각오한 무기한 투쟁\"황교안 대표, 지소미아 파기·패스트트랙 강행 항의황교안, 영수회담 제안 거부되자 단식 결심한 듯황교안, 총체적 리더십 위기 속 단식투쟁 초강수황교안 단식에…\"하지마라\" vs \"목숨 건 것\"홍준표 \"文대통령, 황교안 단식에 미동도 안할 것\"민주당 \"황교안 단식, 정치초보의 떼쓰기에 불과\"바른미래 \"黃, 정치수준 얼마나 더 떨어뜨릴 거냐\"文대통령, 강기정에 \"황교안, 집앞에 온 손님…찾아봬라\"靑강기정, 황교안 만나 단식 만류…\"옳은 방향 아냐Q. 황교안 단식, 제2의 패스트트랙 사태 초래할까?黃 단식에 정국 경색 조짐…패스트트랙 충돌 우려한국당 \"불법 패스트트랙 중단하고 원점 논의해야\"黃, 무기한 단식 돌입…한국당 동조 단식도 검토선거법 11월27일…공수처법 12월3일 부의 예정민주당 \"황교안, 단식 아닌 협상해야\"與 패트 일방처리 시사하며 한국당 압박황교안 단식에 패트 여야4당 공조 복원될까?Q. \"말만 좀 더 잘하면\"…靑고민정, 탁현민에 뿔?고민정 \"아수라장 걱정이었지만 작은 대한민국\"고민정 \"대통령에게 죄송하지만 정말 괜찮았다\"김어준 \"도떼기 시장, 기획 잘못\"탁현민 \"국민과의 대화, 나였다면 안했다\"(자세한 내용은 동영상을 시청하시기 바랍니다.)   ☞ 의견 있는 경제채널 SBSCNBC [홈페이지]☞ 경제를 실험한다~ #머니랩 [네이버 TV] 저작권자 SBS미디어넷 & SBS I&M 무단전재-재배포 금지'"
      ]
     },
     "execution_count": 27,
     "metadata": {},
     "output_type": "execute_result"
    }
   ],
   "source": [
    "content = dom.select_one(\"#articleBodyContents\").text\\\n",
    ".replace(\"\\n\", \"\").replace(\"\\'\", \"\").replace(\"- \", \"\").split(\"{}\")[1].strip()\n",
    "content"
   ]
  },
  {
   "cell_type": "code",
   "execution_count": 39,
   "metadata": {},
   "outputs": [],
   "source": [
    "def get_articles(category, date, page):\n",
    "    url = \"https://news.naver.com/main/list.nhn?mode=LSD&mid=sec&sid1={}&date={}&page={}\".format(category, date, page)\n",
    "    options = webdriver.ChromeOptions()\n",
    "    options.add_argument(\"headless\")\n",
    "    driver = webdriver.Chrome(options=options)\n",
    "    driver.get(url)\n",
    "    articles = driver.find_elements_by_css_selector(\".list_body > ul > li\")\n",
    "    datas = []\n",
    "    for article in articles:\n",
    "        title = article.find_element_by_css_selector(\"dt:not(.photo) > a\").text\n",
    "        link = article.find_element_by_css_selector(\"dt:not(.photo) > a\").get_attribute(\"href\")\n",
    "        response = requests.get(link)\n",
    "        dom = BeautifulSoup(response.content, \"html.parser\")\n",
    "        content = dom.select_one(\"#articleBodyContents\").text.replace(\"\\n\", \"\").replace(\"\\'\", \"\").replace(\"- \", \"\").split(\"{}\")[1].strip()\n",
    "        datas.append({\n",
    "            \"title\": title,\n",
    "            \"link\": link,\n",
    "            \"content\": content,\n",
    "            \"category\": category,\n",
    "        })\n",
    "    driver.quit()\n",
    "    return pd.DataFrame(datas)"
   ]
  },
  {
   "cell_type": "code",
   "execution_count": 40,
   "metadata": {},
   "outputs": [],
   "source": [
    "categories = {\n",
    "    100: \"정치\",\n",
    "    101: \"경제\",\n",
    "    102: \"사회\",\n",
    "    103: \"생활/문화\",\n",
    "    104: \"세계\",\n",
    "    105: \"IT/과학\",\n",
    "}"
   ]
  },
  {
   "cell_type": "code",
   "execution_count": 41,
   "metadata": {},
   "outputs": [
    {
     "name": "stdout",
     "output_type": "stream",
     "text": [
      "정치 1 2 3 4 5 \n",
      "경제 1 2 3 4 5 \n",
      "사회 1 2 3 4 5 \n",
      "생활/문화 1 2 3 4 5 \n",
      "세계 1 2 3 4 5 \n",
      "IT/과학 1 2 3 4 5 \n"
     ]
    },
    {
     "data": {
      "text/html": [
       "<div>\n",
       "<style scoped>\n",
       "    .dataframe tbody tr th:only-of-type {\n",
       "        vertical-align: middle;\n",
       "    }\n",
       "\n",
       "    .dataframe tbody tr th {\n",
       "        vertical-align: top;\n",
       "    }\n",
       "\n",
       "    .dataframe thead th {\n",
       "        text-align: right;\n",
       "    }\n",
       "</style>\n",
       "<table border=\"1\" class=\"dataframe\">\n",
       "  <thead>\n",
       "    <tr style=\"text-align: right;\">\n",
       "      <th></th>\n",
       "      <th>category</th>\n",
       "      <th>content</th>\n",
       "      <th>link</th>\n",
       "      <th>title</th>\n",
       "    </tr>\n",
       "  </thead>\n",
       "  <tbody>\n",
       "    <tr>\n",
       "      <th>595</th>\n",
       "      <td>105</td>\n",
       "      <td>[디지털데일리 채수웅기자] 과학기술정보통신부(장관 최기영)는 21일 KT, SK텔레...</td>\n",
       "      <td>https://news.naver.com/main/read.nhn?mode=LSD&amp;...</td>\n",
       "      <td>과기정통부-통신사, 재난방지 대책 추진현황 점검</td>\n",
       "    </tr>\n",
       "    <tr>\n",
       "      <th>596</th>\n",
       "      <td>105</td>\n",
       "      <td>게임 기획 단계부터 타격감 위주로 설계(지디넷코리아=김한준  기자)\"슬랩잇은 기획 ...</td>\n",
       "      <td>https://news.naver.com/main/read.nhn?mode=LSD&amp;...</td>\n",
       "      <td>STAC 2019 게임 수상작 '슬랩잇' 고등학생 퀄리티 넘어섰다</td>\n",
       "    </tr>\n",
       "    <tr>\n",
       "      <th>597</th>\n",
       "      <td>105</td>\n",
       "      <td>과기정통부, 22일자로 IBS 신임 원장 임명[아이뉴스24 최상국 기자] 기초과학연...</td>\n",
       "      <td>https://news.naver.com/main/read.nhn?mode=LSD&amp;...</td>\n",
       "      <td>노도영 IBS 신임 원장 임명, \"IBS 개혁 · 중이온가속기 성공\" 임무</td>\n",
       "    </tr>\n",
       "    <tr>\n",
       "      <th>598</th>\n",
       "      <td>105</td>\n",
       "      <td>병역 대체복무제도 개선 확정…중소·중견기업에 배정 늘려(세종=연합뉴스) 신선미 기자...</td>\n",
       "      <td>https://news.naver.com/main/read.nhn?mode=LSD&amp;...</td>\n",
       "      <td>2025년 전문연구요원 석사 300명 감축…박사는 1천명 유지(종합)</td>\n",
       "    </tr>\n",
       "    <tr>\n",
       "      <th>599</th>\n",
       "      <td>105</td>\n",
       "      <td>엔지니어들이 SOC실증연구센터에서 스마트 건설 방식으로 공사를 진행하고 있다.  제...</td>\n",
       "      <td>https://news.naver.com/main/read.nhn?mode=LSD&amp;...</td>\n",
       "      <td>SKT, ‘5G+건설·기계’ 드론 띄워 측량, 굴삭기로 정밀공사 ‘착착’</td>\n",
       "    </tr>\n",
       "  </tbody>\n",
       "</table>\n",
       "</div>"
      ],
      "text/plain": [
       "     category                                            content  \\\n",
       "595       105  [디지털데일리 채수웅기자] 과학기술정보통신부(장관 최기영)는 21일 KT, SK텔레...   \n",
       "596       105  게임 기획 단계부터 타격감 위주로 설계(지디넷코리아=김한준  기자)\"슬랩잇은 기획 ...   \n",
       "597       105  과기정통부, 22일자로 IBS 신임 원장 임명[아이뉴스24 최상국 기자] 기초과학연...   \n",
       "598       105  병역 대체복무제도 개선 확정…중소·중견기업에 배정 늘려(세종=연합뉴스) 신선미 기자...   \n",
       "599       105  엔지니어들이 SOC실증연구센터에서 스마트 건설 방식으로 공사를 진행하고 있다.  제...   \n",
       "\n",
       "                                                  link  \\\n",
       "595  https://news.naver.com/main/read.nhn?mode=LSD&...   \n",
       "596  https://news.naver.com/main/read.nhn?mode=LSD&...   \n",
       "597  https://news.naver.com/main/read.nhn?mode=LSD&...   \n",
       "598  https://news.naver.com/main/read.nhn?mode=LSD&...   \n",
       "599  https://news.naver.com/main/read.nhn?mode=LSD&...   \n",
       "\n",
       "                                         title  \n",
       "595                 과기정통부-통신사, 재난방지 대책 추진현황 점검  \n",
       "596       STAC 2019 게임 수상작 '슬랩잇' 고등학생 퀄리티 넘어섰다  \n",
       "597  노도영 IBS 신임 원장 임명, \"IBS 개혁 · 중이온가속기 성공\" 임무  \n",
       "598     2025년 전문연구요원 석사 300명 감축…박사는 1천명 유지(종합)  \n",
       "599   SKT, ‘5G+건설·기계’ 드론 띄워 측량, 굴삭기로 정밀공사 ‘착착’  "
      ]
     },
     "execution_count": 41,
     "metadata": {},
     "output_type": "execute_result"
    }
   ],
   "source": [
    "dfs = []\n",
    "date = 20191121\n",
    "for category in categories:\n",
    "    print(categories[category], end=\" \")\n",
    "    for page in range(1, 6):\n",
    "        print(page, end=\" \")\n",
    "        df = get_articles(category, date, page)\n",
    "        dfs.append(df)\n",
    "    print()\n",
    "articles_df = pd.concat(dfs, ignore_index=True)\n",
    "articles_df.tail()"
   ]
  },
  {
   "cell_type": "code",
   "execution_count": 42,
   "metadata": {},
   "outputs": [],
   "source": [
    "articles_df.to_csv(\"article.csv\", index=False, encoding=\"utf-8-sig\")"
   ]
  }
 ],
 "metadata": {
  "kernelspec": {
   "display_name": "Python 3",
   "language": "python",
   "name": "python3"
  },
  "language_info": {
   "codemirror_mode": {
    "name": "ipython",
    "version": 3
   },
   "file_extension": ".py",
   "mimetype": "text/x-python",
   "name": "python",
   "nbconvert_exporter": "python",
   "pygments_lexer": "ipython3",
   "version": "3.7.3"
  }
 },
 "nbformat": 4,
 "nbformat_minor": 2
}
