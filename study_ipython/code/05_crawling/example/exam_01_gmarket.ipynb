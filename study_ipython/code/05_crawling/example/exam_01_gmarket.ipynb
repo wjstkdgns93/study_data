{
 "cells": [
  {
   "cell_type": "markdown",
   "metadata": {},
   "source": [
    "### Gmarket 베스트 상품 200개 크롤링\n",
    "- 상품명, 원가, 판매가\n",
    "- 썸네일 이미지"
   ]
  },
  {
   "cell_type": "code",
   "execution_count": 1,
   "metadata": {},
   "outputs": [],
   "source": [
    "import requests\n",
    "from bs4 import BeautifulSoup"
   ]
  },
  {
   "cell_type": "code",
   "execution_count": 2,
   "metadata": {},
   "outputs": [],
   "source": [
    "response = requests.get(\"http://corners.gmarket.co.kr/Bestsellers\")\n",
    "dom = BeautifulSoup(response.content, \"html.parser\")"
   ]
  },
  {
   "cell_type": "code",
   "execution_count": 3,
   "metadata": {},
   "outputs": [
    {
     "data": {
      "text/plain": [
       "200"
      ]
     },
     "execution_count": 3,
     "metadata": {},
     "output_type": "execute_result"
    }
   ],
   "source": [
    "selector = \"#gBestWrap > div > div:nth-child(6) > div:nth-child(3) > ul > li\"\n",
    "elements = dom.select(selector)\n",
    "len(elements)"
   ]
  },
  {
   "cell_type": "code",
   "execution_count": 4,
   "metadata": {},
   "outputs": [],
   "source": [
    "# 코드, 제목, 링크, 원가, 판매가, 할인율"
   ]
  },
  {
   "cell_type": "code",
   "execution_count": 5,
   "metadata": {},
   "outputs": [
    {
     "data": {
      "text/plain": [
       "(None, '[블루나]아기물티슈 스무딩 캡형 72매 10팩+황사마스크증정')"
      ]
     },
     "execution_count": 5,
     "metadata": {},
     "output_type": "execute_result"
    }
   ],
   "source": [
    "elements[0].get(\"id\"), elements[0].select_one(\".itemname\").text"
   ]
  },
  {
   "cell_type": "code",
   "execution_count": 6,
   "metadata": {},
   "outputs": [
    {
     "data": {
      "text/plain": [
       "'12,900원'"
      ]
     },
     "execution_count": 6,
     "metadata": {},
     "output_type": "execute_result"
    }
   ],
   "source": [
    "elements[0].select_one(\".s-price\").text.strip().split(\"\\n\")[0]"
   ]
  },
  {
   "cell_type": "code",
   "execution_count": 7,
   "metadata": {},
   "outputs": [
    {
     "data": {
      "text/plain": [
       "<li class=\"first\">\n",
       "<p class=\"no81\" id=\"no81\">81</p>\n",
       "<span class=\"box__bigs-tag\"><img alt=\"빅세일 상품\" class=\"image\" src=\"//pics.gmarket.co.kr/mobile/single/kr/promotion/bigs/tag/tag.png?v=20200117\"/></span>\n",
       "<div class=\"thumb\">\n",
       "<a href=\"http://item.gmarket.co.kr/Item?goodscode=502114157&amp;ver=637148544803237344\" onclick=\"pdsClickLog('200000680', 'Item', {'ASN': 81, 'goodsCode': '502114157'});\"><img alt=\"코코리겨울~간절기 쭉입기좋은 롱티박스티원피스\" class=\"lazy\" data-original=\"http://gdimg.gmarket.co.kr/502114157/still/300\" height=\"210\" src=\"http://image.gmarket.co.kr/challenge/neo_image/no_image.gif\" width=\"210\"/></a>\n",
       "</div>\n",
       "<!--div class=\"goods-view\">\n",
       "\t\t\t\t\t\t\t\t\t<a href=\"http://minishop.gmarket.co.kr/teatro83\"><span class=\"view\">판매자 다른상품 보기</span>코코리cocolee</a>\n",
       "\t\t\t\t\t\t\t\t</div-->\n",
       "<a class=\"itemname\" href=\"http://item.gmarket.co.kr/Item?goodscode=502114157&amp;ver=637148544803237344\" onclick=\"pdsClickLog('200000680', 'Item', {'ASN': 81, 'goodsCode': '502114157'});\">코코리겨울~간절기 쭉입기좋은 롱티박스티원피스</a>\n",
       "<div class=\"item_price\">\n",
       "<div class=\"o-price\"><span><span>32,900원</span></span></div>\n",
       "<div class=\"s-price\">\n",
       "<strong><span><span>9,900원</span></span></strong>\n",
       "<span><span class=\"sale\"></span><em>69%</em></span>\n",
       "</div>\n",
       "<div class=\"icon\">\n",
       "<img alt=\"무료배송\" src=\"http://pics.gmkt.kr/pc/ko/corner/gbest/ic_freeshipping.gif\"/>\n",
       "</div>\n",
       "</div>\n",
       "</li>"
      ]
     },
     "execution_count": 7,
     "metadata": {},
     "output_type": "execute_result"
    }
   ],
   "source": [
    "elements[80]"
   ]
  },
  {
   "cell_type": "code",
   "execution_count": 8,
   "metadata": {},
   "outputs": [
    {
     "data": {
      "text/html": [
       "<div>\n",
       "<style scoped>\n",
       "    .dataframe tbody tr th:only-of-type {\n",
       "        vertical-align: middle;\n",
       "    }\n",
       "\n",
       "    .dataframe tbody tr th {\n",
       "        vertical-align: top;\n",
       "    }\n",
       "\n",
       "    .dataframe thead th {\n",
       "        text-align: right;\n",
       "    }\n",
       "</style>\n",
       "<table border=\"1\" class=\"dataframe\">\n",
       "  <thead>\n",
       "    <tr style=\"text-align: right;\">\n",
       "      <th></th>\n",
       "      <th>code</th>\n",
       "      <th>title</th>\n",
       "      <th>price</th>\n",
       "    </tr>\n",
       "  </thead>\n",
       "  <tbody>\n",
       "    <tr>\n",
       "      <td>198</td>\n",
       "      <td>None</td>\n",
       "      <td>[이니스프리]이니스프리 클렌징폼/티슈 1+1 트루케어 클리어런스</td>\n",
       "      <td>25,000원</td>\n",
       "    </tr>\n",
       "    <tr>\n",
       "      <td>199</td>\n",
       "      <td>None</td>\n",
       "      <td>비니수 기획특가 가을신상모음전</td>\n",
       "      <td>3,900원</td>\n",
       "    </tr>\n",
       "  </tbody>\n",
       "</table>\n",
       "</div>"
      ],
      "text/plain": [
       "     code                                title    price\n",
       "198  None  [이니스프리]이니스프리 클렌징폼/티슈 1+1 트루케어 클리어런스  25,000원\n",
       "199  None                     비니수 기획특가 가을신상모음전   3,900원"
      ]
     },
     "execution_count": 8,
     "metadata": {},
     "output_type": "execute_result"
    }
   ],
   "source": [
    "datas = [] \n",
    "for element in elements:\n",
    "    datas.append({\n",
    "        \"code\": element.get(\"id\"),\n",
    "        \"title\": element.select_one(\".itemname\").text,\n",
    "        \"price\": element.select_one(\".s-price\").text.strip().split(\"\\n\")[0],\n",
    "    })\n",
    "items_df = pd.DataFrame(datas)\n",
    "items_df.tail(2)"
   ]
  },
  {
   "cell_type": "markdown",
   "metadata": {},
   "source": [
    "#### 이미지 다운받기"
   ]
  },
  {
   "cell_type": "code",
   "execution_count": 9,
   "metadata": {},
   "outputs": [
    {
     "data": {
      "text/html": [
       "<div>\n",
       "<style scoped>\n",
       "    .dataframe tbody tr th:only-of-type {\n",
       "        vertical-align: middle;\n",
       "    }\n",
       "\n",
       "    .dataframe tbody tr th {\n",
       "        vertical-align: top;\n",
       "    }\n",
       "\n",
       "    .dataframe thead th {\n",
       "        text-align: right;\n",
       "    }\n",
       "</style>\n",
       "<table border=\"1\" class=\"dataframe\">\n",
       "  <thead>\n",
       "    <tr style=\"text-align: right;\">\n",
       "      <th></th>\n",
       "      <th>code</th>\n",
       "      <th>title</th>\n",
       "      <th>price</th>\n",
       "    </tr>\n",
       "  </thead>\n",
       "  <tbody>\n",
       "    <tr>\n",
       "      <td>0</td>\n",
       "      <td>None</td>\n",
       "      <td>[블루나]아기물티슈 스무딩 캡형 72매 10팩+황사마스크증정</td>\n",
       "      <td>12,900원</td>\n",
       "    </tr>\n",
       "    <tr>\n",
       "      <td>1</td>\n",
       "      <td>None</td>\n",
       "      <td>[북메카]북메카 타임포더스토리 모음전</td>\n",
       "      <td>24,500원</td>\n",
       "    </tr>\n",
       "    <tr>\n",
       "      <td>2</td>\n",
       "      <td>None</td>\n",
       "      <td>[피지오겔]공식정품 피지오겔 BEST 제품 모음전 ~</td>\n",
       "      <td>20,700원</td>\n",
       "    </tr>\n",
       "    <tr>\n",
       "      <td>3</td>\n",
       "      <td>None</td>\n",
       "      <td>[코디]코디 안심키친타올 140매 4롤X3팩/화장지 휴지</td>\n",
       "      <td>13,000원</td>\n",
       "    </tr>\n",
       "    <tr>\n",
       "      <td>4</td>\n",
       "      <td>None</td>\n",
       "      <td>[비오템](신세계강남점)[설선물] 아쿠아수르스 수분 젤 크림  점보 75ml 세트</td>\n",
       "      <td>48,600원</td>\n",
       "    </tr>\n",
       "  </tbody>\n",
       "</table>\n",
       "</div>"
      ],
      "text/plain": [
       "   code                                          title    price\n",
       "0  None              [블루나]아기물티슈 스무딩 캡형 72매 10팩+황사마스크증정  12,900원\n",
       "1  None                           [북메카]북메카 타임포더스토리 모음전  24,500원\n",
       "2  None                  [피지오겔]공식정품 피지오겔 BEST 제품 모음전 ~  20,700원\n",
       "3  None                [코디]코디 안심키친타올 140매 4롤X3팩/화장지 휴지  13,000원\n",
       "4  None  [비오템](신세계강남점)[설선물] 아쿠아수르스 수분 젤 크림  점보 75ml 세트  48,600원"
      ]
     },
     "execution_count": 9,
     "metadata": {},
     "output_type": "execute_result"
    }
   ],
   "source": [
    "items_df.head()"
   ]
  },
  {
   "cell_type": "code",
   "execution_count": 10,
   "metadata": {},
   "outputs": [],
   "source": [
    "!mkdir datas"
   ]
  },
  {
   "cell_type": "code",
   "execution_count": 11,
   "metadata": {},
   "outputs": [],
   "source": [
    "def download(title, link):\n",
    "    \n",
    "    response = requests.get(link, stream=True)\n",
    "    path = \"datas/{}\".format(title)\n",
    "    \n",
    "    with open(path, \"wb\") as f:\n",
    "        for chunk in response.iter_content(chunk_size=1024):\n",
    "            if chunk:\n",
    "                f.write(chunk)"
   ]
  },
  {
   "cell_type": "code",
   "execution_count": 12,
   "metadata": {},
   "outputs": [
    {
     "name": "stdout",
     "output_type": "stream",
     "text": [
      "[블루나]아기물티슈 스무딩 캡형 72매 10팩+황사마스크증정.png http://gdimg.gmarket.co.kr/None/still/300\n",
      "[북메카]북메카 타임포더스토리 모음전.png http://gdimg.gmarket.co.kr/None/still/300\n",
      "[피지오겔]공식정품 피지오겔 BEST 제품 모음전 ~.png http://gdimg.gmarket.co.kr/None/still/300\n",
      "[코디]코디 안심키친타올 140매 4롤X3팩화장지 휴지.png http://gdimg.gmarket.co.kr/None/still/300\n",
      "[비오템](신세계강남점)[설선물] 아쿠아수르스 수분 젤 크림  점보 75ml 세트.png http://gdimg.gmarket.co.kr/None/still/300\n",
      "[에쓰오일](S-OIL) 모바일주유권 3만원 실시간발송 주유상품권.png http://gdimg.gmarket.co.kr/None/still/300\n",
      "[깨끗한나라]순수브라운 3겹 화장지 27m 30롤 2팩 (특가).png http://gdimg.gmarket.co.kr/None/still/300\n",
      "끼리 크림치즈 찰떡 2종 12개 (스트로베리 블루베리).png http://gdimg.gmarket.co.kr/None/still/300\n",
      "상주에덴곶감 건시선물세트 1.0kg 예약배송가능.png http://gdimg.gmarket.co.kr/None/still/300\n",
      "[상하목장]상하목장 유기농 우유 125ML  24팩.png http://gdimg.gmarket.co.kr/None/still/300\n",
      "[예닮]예닮 여아 남아 유아 아동 한복.png http://gdimg.gmarket.co.kr/None/still/300\n",
      "쁘띠뮤 봄 프리뷰겨울 역대급찬스 아동복상하복.png http://gdimg.gmarket.co.kr/None/still/300\n",
      "(특가)(카드10%할인) 롯데월드 종일AFTER4(오후4시)패밀리권.png http://gdimg.gmarket.co.kr/None/still/300\n",
      "[테크액체세제]테크 파워액체세제 대용량 8L (일반드럼겸용).png http://gdimg.gmarket.co.kr/None/still/300\n",
      "빅사이즈 니트 3종 세트 쿠폰적용가 9 520원  .png http://gdimg.gmarket.co.kr/None/still/300\n",
      "[천호엔케어]천호 하루활력 배도라지청 스틱 10ml 30포 3+1+쇼핑백.png http://gdimg.gmarket.co.kr/None/still/300\n",
      "[풀무원]얇은피만두 혼합 8봉 (고기4개+김치4개)+증정.png http://gdimg.gmarket.co.kr/None/still/300\n",
      "호남평야의 좋은쌀 신동진(19년도햅쌀  상등급)10kg.png http://gdimg.gmarket.co.kr/None/still/300\n",
      "[나무야나무야]나무야 도톰한 3겹데코 30m 30롤 3팩화장지휴지.png http://gdimg.gmarket.co.kr/None/still/300\n",
      "[니베아]니베아 립케어 4개  립밤 립에센스 설 명절.png http://gdimg.gmarket.co.kr/None/still/300\n",
      "2019년 햅곡  찰진쌀 (포20KG) (지마켓).png http://gdimg.gmarket.co.kr/None/still/300\n",
      "[롯데칠성]칠성사이다 210ml x 60캔  (30캔짜리 x 2박스).png http://gdimg.gmarket.co.kr/None/still/300\n",
      "(10%중복쿠폰)클럽클리오 1월 빅세일~75%.png http://gdimg.gmarket.co.kr/None/still/300\n",
      "[참도깨비]온가족 푸짐하게 감자탕 10인분  4.7kg 대용량.png http://gdimg.gmarket.co.kr/None/still/300\n",
      "빨아쓰는 꿀잠마약베개 낮은베개 목베개 좋은하루베개.png http://gdimg.gmarket.co.kr/None/still/300\n",
      "[토니모리](20%+30%중복) 토니모리 1월 빅세일  전품목~82%.png http://gdimg.gmarket.co.kr/None/still/300\n",
      "(etv)블랙앵거스 LA갈비 선물세트 4kg.png http://gdimg.gmarket.co.kr/None/still/300\n",
      "[종근당]락토핏 생유산균 골드 선물세트(50포x3통 5개월분).png http://gdimg.gmarket.co.kr/None/still/300\n",
      "접이식 보온 음식덮개 1+1외 주방용품 50종 +사은품.png http://gdimg.gmarket.co.kr/None/still/300\n",
      "한라봉선물세트 3kg(10-12수)x2박스  총 6kg.png http://gdimg.gmarket.co.kr/None/still/300\n",
      "1+1 Good Plus 사과 선물 세트5kg(10과내외)2박스발송.png http://gdimg.gmarket.co.kr/None/still/300\n",
      "나주배 7.5kg 11-13과 선물용최대쿠폰가 19920원.png http://gdimg.gmarket.co.kr/None/still/300\n",
      "[러브캣]러브캣 미니반지갑(LIF4M901).png http://gdimg.gmarket.co.kr/None/still/300\n",
      "[락앤락]락앤락 주방용품 고무장갑 밀폐용기 몽땅 균일가전.png http://gdimg.gmarket.co.kr/None/still/300\n",
      "[안성탕면]오징어짬뽕10개+너구리10개+안성탕면10개(총30개).png http://gdimg.gmarket.co.kr/None/still/300\n",
      "[블루독]블루독플레이 신학기 트레이닝복상하복.png http://gdimg.gmarket.co.kr/None/still/300\n",
      "[필립스]아벤트 울트라소프트 노리개(6-18개월) 2P SCF22322.png http://gdimg.gmarket.co.kr/None/still/300\n",
      "한수위 호두왕찹쌀떡선물세트(80gX20입)떡.png http://gdimg.gmarket.co.kr/None/still/300\n",
      "[해태제과]허니버터칩 10개기획팩+담요증정 (담요 덮고 과자먹고).png http://gdimg.gmarket.co.kr/None/still/300\n",
      "[카렉스]레인스톰 하이브리드 와이퍼  2+2 2세트 무료배송.png http://gdimg.gmarket.co.kr/None/still/300\n",
      "[푸마][푸마골프] 남여 스웨트셔츠맨투맨팬츠 택1.png http://gdimg.gmarket.co.kr/None/still/300\n",
      "브리치X씨샵인더룸 20%쿠폰 FW 맨투맨자켓니트.png http://gdimg.gmarket.co.kr/None/still/300\n",
      "[Aura]아우라 섬유유연제 윌유메리미 5.5L.png http://gdimg.gmarket.co.kr/None/still/300\n",
      "[해태제과]해태제과 연양갱 명절 선물세트(20개입)+쇼핑백 증정.png http://gdimg.gmarket.co.kr/None/still/300\n",
      "[JCstyle]꿀잠예약 보들보들 수면잠옷.png http://gdimg.gmarket.co.kr/None/still/300\n",
      "원더바스 슈퍼베지톡스 클렌저 3개 + 사은품.png http://gdimg.gmarket.co.kr/None/still/300\n",
      "[MLB]방한 슬리퍼  1+1 하나사면 하나 더 털슬리퍼 연합전.png http://gdimg.gmarket.co.kr/None/still/300\n",
      "프롬산타 양말 설선물세트 남자여자중목발목정장신사.png http://gdimg.gmarket.co.kr/None/still/300\n",
      "[엘르]5차 재요청행사 엘르_로베르따 숄더미니 핸드백 48종.png http://gdimg.gmarket.co.kr/None/still/300\n",
      "(처음부터 메가스터디)큰별 쌤 최태성의 한국사 수호대 전7권우리아이 첫 한국사미리보는 교과서.png http://gdimg.gmarket.co.kr/None/still/300\n",
      "겨울신상기모박스티빅사이즈루즈핏맨투맨후드티.png http://gdimg.gmarket.co.kr/None/still/300\n",
      "19년 햅쌀  농협 우리쌀 20KG.png http://gdimg.gmarket.co.kr/None/still/300\n",
      "[키자니아](카드10%할인) 직업체험 NO.1 키자니아_서울부산 이용권 특가(17~31).png http://gdimg.gmarket.co.kr/None/still/300\n",
      "[비비고]비비고 사골곰탕 16팩.png http://gdimg.gmarket.co.kr/None/still/300\n",
      "[푸마]19FW 골드라벨 여성 시티패딩코트.png http://gdimg.gmarket.co.kr/None/still/300\n",
      "(명절특별구성_쇼핑백포함) 천화밀 1+등급 5병(2.5kg).png http://gdimg.gmarket.co.kr/None/still/300\n",
      "[다우니]고농축 다우니 엑스퍼트 실내건조1L 6개.png http://gdimg.gmarket.co.kr/None/still/300\n",
      "[JW중외]리얼메디 크릴오일 남극 크릴 새우 인지질58% 3박스.png http://gdimg.gmarket.co.kr/None/still/300\n",
      "[마몽드]레드 에너지 리커버리 세럼 + 스퀴즈립 8호.png http://gdimg.gmarket.co.kr/None/still/300\n",
      "앵콜행사 4차 푸마헤드 인기 트레이닝복점퍼 특가전.png http://gdimg.gmarket.co.kr/None/still/300\n",
      "[유솔]유솔펠릭스키즈 겨울상품 최종가~83%.png http://gdimg.gmarket.co.kr/None/still/300\n",
      "[해피콜]1+1 컴포트 다이아몬드 후라이팬 28cm + 궁중팬 28cm.png http://gdimg.gmarket.co.kr/None/still/300\n",
      "[멜킨스포츠]멜킨 스텝퍼 2종 트위스트 하체 유산소 실내 운동기구.png http://gdimg.gmarket.co.kr/None/still/300\n",
      "프리미엄 석류즙 100 석류과즙100% 3박스 (총 90포).png http://gdimg.gmarket.co.kr/None/still/300\n",
      "(미국오리지널) LA갈비 1kg초이스등급3개이상 무배.png http://gdimg.gmarket.co.kr/None/still/300\n",
      "[맥심]맥심 화이트 골드 커피믹스 320T : 커피는 맥심~.png http://gdimg.gmarket.co.kr/None/still/300\n",
      "[세노비스]여성 트리플러스우먼 멀티비타민미네랄 90캡슐.png http://gdimg.gmarket.co.kr/None/still/300\n",
      "19년도 햅쌀 농부의미소 20KG쌀포  지마켓.png http://gdimg.gmarket.co.kr/None/still/300\n",
      "[풀무원]올바른 핫도그 40개입.png http://gdimg.gmarket.co.kr/None/still/300\n",
      "제주 나영이네농장 고당도 레드향 3kg(11~15과)-대과.png http://gdimg.gmarket.co.kr/None/still/300\n",
      "[정관장]정관장 홍삼정에브리타임 밸런스 10ml 20포 +3포증정.png http://gdimg.gmarket.co.kr/None/still/300\n",
      "메이킹유 롱니트원피스코트 빅사이즈블라우스.png http://gdimg.gmarket.co.kr/None/still/300\n",
      "[올반키친]찰핫도그 80g 20봉 (신세계푸드소세지반치즈반).png http://gdimg.gmarket.co.kr/None/still/300\n",
      "저분자 피쉬 콜라겐 비타민C 히아루론산 유산균 2박스.png http://gdimg.gmarket.co.kr/None/still/300\n",
      "[파스퇴르]베이비 생유산균 실속형 90봉(3개월분)  유산균 프로바이오틱스 파스퇴르.png http://gdimg.gmarket.co.kr/None/still/300\n",
      "[브라운물티슈]브라운 아기물티슈 오리지널 플러스 80매 캡 10+10팩.png http://gdimg.gmarket.co.kr/None/still/300\n",
      "청양구기자분말 500g 국내산 100% 정품 시험성적서 有.png http://gdimg.gmarket.co.kr/None/still/300\n",
      "[다우니]다우니 퍼퓸 섬유유연제 미스티크 1L x 6개.png http://gdimg.gmarket.co.kr/None/still/300\n",
      "[쉬즈홈]폭신한 자카드 발매트 1+1키친매트욕실현관매트.png http://gdimg.gmarket.co.kr/None/still/300\n",
      "[아키클래식]브랜드 겨울운동화키높이어글리여성삭스스니커즈.png http://gdimg.gmarket.co.kr/None/still/300\n",
      "코코리겨울~간절기 쭉입기좋은 롱티박스티원피스.png http://gdimg.gmarket.co.kr/None/still/300\n",
      "동태포 명태포 슬라이스 700g+700g 명태전.png http://gdimg.gmarket.co.kr/None/still/300\n",
      "[맥심]맥심 모카골드 커피믹스 320T +홈머그:쿠폰가 31880원~.png http://gdimg.gmarket.co.kr/None/still/300\n",
      "[한수위]사과 배 과일 선물  한수위사과배+한라봉 총5kg제수용.png http://gdimg.gmarket.co.kr/None/still/300\n",
      "크루넥 기모 맨투맨 타미힐피거..png http://gdimg.gmarket.co.kr/None/still/300\n",
      "옛날과자 한정특가 고급종합전병 1kg+1kg.png http://gdimg.gmarket.co.kr/None/still/300\n",
      "탐라왕 고당도 한라봉 선물세트 3kg 중과(10-13과).png http://gdimg.gmarket.co.kr/None/still/300\n",
      "[하이드로더치]10+10+7 하이드로 더치커피 콜드브루 원두 커피.png http://gdimg.gmarket.co.kr/None/still/300\n",
      "꽈배기때타올 1+1때타올각질제거샤워볼.png http://gdimg.gmarket.co.kr/None/still/300\n",
      "공용_캐주얼 베이직 경량 베스트 6종택 1 (PHZ4VP102010301040202020303010)..png http://gdimg.gmarket.co.kr/None/still/300\n",
      "이너리즘 심리스 브라탑 라이트 6종세트노라인팬티.png http://gdimg.gmarket.co.kr/None/still/300\n",
      "[금강제화]금강제화 여성부츠 봄 남녀신상 모음.png http://gdimg.gmarket.co.kr/None/still/300\n",
      "6년근 홍삼정골드250g X 4병 총1000g홍삼 설선물.png http://gdimg.gmarket.co.kr/None/still/300\n",
      "[정관장]정관장 홍삼원골드 50ml 60포 선물세트 쇼핑백포함.png http://gdimg.gmarket.co.kr/None/still/300\n",
      "트레킹운동화 U7-703  가격도 무게도 가볍게 신자.png http://gdimg.gmarket.co.kr/None/still/300\n",
      "[엔뚜마노]골든라벨 미니 믹서기 소형 블렌더  MJ-15re(블랙).png http://gdimg.gmarket.co.kr/None/still/300\n",
      "[라포프] 울 블렌디드 벨티드 체크 자켓.png http://gdimg.gmarket.co.kr/None/still/300\n",
      "(크레용하우스) NEW 공룡유치원.png http://gdimg.gmarket.co.kr/None/still/300\n",
      "좋은느낌 화이트 생리대 팬티라이너 탐폰 모음증정.png http://gdimg.gmarket.co.kr/None/still/300\n",
      "[종근당]종근당건강 락토핏 생유산균 골드 5통 (250일분).png http://gdimg.gmarket.co.kr/None/still/300\n",
      "[매일유업]매일 딸기우유 + 초콜릿 우유 멸균 200ml 48팩.png http://gdimg.gmarket.co.kr/None/still/300\n",
      "[메디플라워]로맨틱 홀리데이 바디세트+쇼핑백설선물세트답례품.png http://gdimg.gmarket.co.kr/None/still/300\n",
      "탐라왕 고당도 한라봉 선물세트 3kg 대과(8-9과).png http://gdimg.gmarket.co.kr/None/still/300\n",
      "[천호엔케어]천호 하루활력 석류즙 70ml 30개입 1+1.png http://gdimg.gmarket.co.kr/None/still/300\n",
      "[동원에프앤비]동원참치 O-18호 선물세트 1개설선물동원선물세트.png http://gdimg.gmarket.co.kr/None/still/300\n",
      "[3M]후레쉬 위생장갑 100+100매 3개세트 총 600매.png http://gdimg.gmarket.co.kr/None/still/300\n",
      "[상하목장]상하목장 유기농 멸균우유 200ML 24팩.png http://gdimg.gmarket.co.kr/None/still/300\n",
      "[정관장]정관장 홍삼원 50ml x 20포 (4+1) 총 5세트.png http://gdimg.gmarket.co.kr/None/still/300\n"
     ]
    },
    {
     "name": "stdout",
     "output_type": "stream",
     "text": [
      "리디셀렉트 10개월 이용권 반 값 + 1개월 보너스.png http://gdimg.gmarket.co.kr/None/still/300\n",
      "순수프리미엄S 3겹 화장지 27m 30롤 x 2팩(특가).png http://gdimg.gmarket.co.kr/None/still/300\n",
      "[자연별곡](이랜드잇) 외식통합 기프트카드 3만원권 + 7%캐시백.png http://gdimg.gmarket.co.kr/None/still/300\n",
      "정관장 활기력(20mlx16병) 1박스.png http://gdimg.gmarket.co.kr/None/still/300\n",
      "(Nosy Crow)움직이는 영어 동요 보드북 10종 세트Sing Along With Me(음원 QR코드 포함10 Boardbooks).png http://gdimg.gmarket.co.kr/None/still/300\n",
      "[비달사순]비달사순 2000W 전문가용 헤어드라이기 VSD5129K.png http://gdimg.gmarket.co.kr/None/still/300\n",
      "[투썸플레이스](투썸플레이스) 스트로베리 초콜릿 생크림 1호.png http://gdimg.gmarket.co.kr/None/still/300\n",
      "[솔로이스트]5%중복쿠폰 윈터 클리어런스 패딩니트 외 UTCJ2H01.png http://gdimg.gmarket.co.kr/None/still/300\n",
      "[잘풀리는집]순수PURE 천연펄프 25m30롤 x3팩휴지화장지.png http://gdimg.gmarket.co.kr/None/still/300\n",
      "패션풀 겨울신상니트팬츠원피스점퍼.png http://gdimg.gmarket.co.kr/None/still/300\n",
      "[해피바스]해피바스 에센스 바디워시 5개 (각 900g).png http://gdimg.gmarket.co.kr/None/still/300\n",
      "김나운 떡갈비7팩(14장)+비프스테이크6팩.png http://gdimg.gmarket.co.kr/None/still/300\n",
      "[리복]인터벌 96 (FV5520 FV5521 FV5522 FV7474).png http://gdimg.gmarket.co.kr/None/still/300\n",
      "[드고떼] 스프링 텐셀 하이넥 티셔츠 5종.png http://gdimg.gmarket.co.kr/None/still/300\n",
      "[제주삼다수]제주삼다수 2L 12병생수전문배송.png http://gdimg.gmarket.co.kr/None/still/300\n",
      "[하기스]맥스드라이팬티 5단계 공용 31Px6팩기저귀.png http://gdimg.gmarket.co.kr/None/still/300\n",
      "[크리넥스]데코 앤 소프트 화장지 27M30롤X2팩휴지.png http://gdimg.gmarket.co.kr/None/still/300\n",
      "[왕뚜껑]왕뚜껑 4종(혼합) x 4개 김치우동짬뽕오리지널 16.png http://gdimg.gmarket.co.kr/None/still/300\n",
      "[아토세이프]스마일 섬유유연제 (후리지아향 2.5L 4개)추천.png http://gdimg.gmarket.co.kr/None/still/300\n",
      "[꼼빠니아]조이너스 외 설맞이 선세일 니트원피스팬츠+20%쿠폰.png http://gdimg.gmarket.co.kr/None/still/300\n",
      "[넛월드]넛월드_견과혼합세트_1호.png http://gdimg.gmarket.co.kr/None/still/300\n",
      "스위트바니 겨울신상5900원~롱원피스티후드맨투맨.png http://gdimg.gmarket.co.kr/None/still/300\n",
      "[스파클]스파클생수 2L 30병.png http://gdimg.gmarket.co.kr/None/still/300\n",
      "[맥심](행사상품)N 동서식품_맥심모카골드믹스_230T 2760G .png http://gdimg.gmarket.co.kr/None/still/300\n",
      "[비버리힐스폴로클럽]1매2900원드로즈사각팬티남성남자세트면속옷.png http://gdimg.gmarket.co.kr/None/still/300\n",
      "[롯데제과]카스타드 오리지날 276g  3묶음.png http://gdimg.gmarket.co.kr/None/still/300\n",
      "[아침햇살]아침햇살 500ml x 10개입.png http://gdimg.gmarket.co.kr/None/still/300\n",
      "[남양]초코에몽 초콜릿 드링크 175ml 30캔.png http://gdimg.gmarket.co.kr/None/still/300\n",
      "30년전통 여수 김종임님의 갓김치 3kg동치미백김치.png http://gdimg.gmarket.co.kr/None/still/300\n",
      "[맥심]모카골드 커피믹스 160T+160T +홈머그증정쿠폰가33370.png http://gdimg.gmarket.co.kr/None/still/300\n",
      "[구글플레이](카드가능) 기프트코드 10만원  구글 기프트카드.png http://gdimg.gmarket.co.kr/None/still/300\n",
      "[베비언스]베비언스 킨더밀쉬 1단계 200ml 24입.png http://gdimg.gmarket.co.kr/None/still/300\n",
      "(한수위) 수담한과 선물세트 구정 설 명절선물.png http://gdimg.gmarket.co.kr/None/still/300\n",
      "[아토세이프]귀찮다 렌지후드클리너 750ml 4개기름때청소찌든때.png http://gdimg.gmarket.co.kr/None/still/300\n",
      "(예약가능우체국택배)암소1등급 구이선물세트1.2kg.png http://gdimg.gmarket.co.kr/None/still/300\n",
      "[GNM자연의품격]100억 보장 프로바이오틱스 생유산균 2박스총 4개월분.png http://gdimg.gmarket.co.kr/None/still/300\n",
      "[세노비스]남성 트리플러스맨 멀티비타민미네랄 90캡슐.png http://gdimg.gmarket.co.kr/None/still/300\n",
      "(행사상품)여주농협_대왕님표고시히카리_20KG 포 .png http://gdimg.gmarket.co.kr/None/still/300\n",
      "[이경제][이경제] [시즌5 시그니처]  더힘찬 녹용 (60ml 30포 4박스  약 4개월분).png http://gdimg.gmarket.co.kr/None/still/300\n",
      "[지프키즈](현대백화점)[지프키즈HU]KK1THU001-키즈 JEEP로고 후드티셔츠(5컬러중1택) HU현대울산.png http://gdimg.gmarket.co.kr/None/still/300\n",
      "상주 반건시 20과 x 2박스(개당35~40g) 총 40과.png http://gdimg.gmarket.co.kr/None/still/300\n",
      "설빠른배송  정관장 홍삼정에브리타임밸런스 30포+선물포장.png http://gdimg.gmarket.co.kr/None/still/300\n",
      "국내 한우선물세트 구이용(꽃등심채끝특수부위)1.2kg.png http://gdimg.gmarket.co.kr/None/still/300\n",
      "트윙클토 3종 택1 스파클라이트 SK0GL19Y201.png http://gdimg.gmarket.co.kr/None/still/300\n",
      "요즘에균일특가+20%설빅세일기모팬츠청바지슬랙스.png http://gdimg.gmarket.co.kr/None/still/300\n",
      "[크리넥스]안심클래식 키친타올 120매 4롤 4팩  화장지 휴지.png http://gdimg.gmarket.co.kr/None/still/300\n",
      "최상급 통통생굴 1Kg  최대 쿠폰 적용가 10320원.png http://gdimg.gmarket.co.kr/None/still/300\n",
      "[순수한면](골라담기)순수한면 ZERO 생리대 x 3+3팩.png http://gdimg.gmarket.co.kr/None/still/300\n",
      "[마니커]바사삭치킨한마리 500gx3봉2세트이상 닭갈비 증정.png http://gdimg.gmarket.co.kr/None/still/300\n",
      "[피죤]배수관세척제 드릴펑 2Lx2개.png http://gdimg.gmarket.co.kr/None/still/300\n",
      "[스팸]CJ 선물세트 스팸마일드8호 X 4개 1박스.png http://gdimg.gmarket.co.kr/None/still/300\n",
      "[누리웰](현대Hmall)[누리웰] 반란이(반숙란) 20구 2팩  총40구.png http://gdimg.gmarket.co.kr/None/still/300\n",
      "[정관장]정관장 홍삼정에브리타임 밸런스 10ml x 30포 + 6증정.png http://gdimg.gmarket.co.kr/None/still/300\n",
      "[베베숲]아기물티슈 프리미어 캡 70매 20팩 70gsm.png http://gdimg.gmarket.co.kr/None/still/300\n",
      "[베베앙]베베앙 아기물티슈  시그니처 대용량 100매 캡형 10팩.png http://gdimg.gmarket.co.kr/None/still/300\n",
      "[산과들에]하루 한줌 견과 원데이오리지널100봉선물세트.png http://gdimg.gmarket.co.kr/None/still/300\n",
      "[샘표]샘표 양조간장701 1.8L+501 500ml 특별기획.png http://gdimg.gmarket.co.kr/None/still/300\n",
      "(당일배송)시즌오프 균일가 기모레깅스밴딩팬츠+20%.png http://gdimg.gmarket.co.kr/None/still/300\n",
      "상주에덴곶감 건시선물세트 예약배송 1.1kg 명절선물.png http://gdimg.gmarket.co.kr/None/still/300\n",
      "[제주삼다수]제주삼다수 2L 24병생수전문배송.png http://gdimg.gmarket.co.kr/None/still/300\n",
      "[깨끗한나라]더그린 3겹 화장지 25m 30롤 x 2+1팩 (특가).png http://gdimg.gmarket.co.kr/None/still/300\n",
      "[베베숲]아기물티슈 라이트 캡 80매 20팩.png http://gdimg.gmarket.co.kr/None/still/300\n",
      "CJ제일제당 스팸1호 선물세트.png http://gdimg.gmarket.co.kr/None/still/300\n",
      "[천호엔케어]천호 어린이 배도라지즙 40ml 30개입 1+1 +사은품.png http://gdimg.gmarket.co.kr/None/still/300\n",
      "횡성한우 정육세트 선호 총2.kg.png http://gdimg.gmarket.co.kr/None/still/300\n",
      "[메이크업포에버][메이크업포에버][S] UHD 파우더 세트.png http://gdimg.gmarket.co.kr/None/still/300\n",
      "[LG생활건강]선물세트 스웨디시 가드닝 7개 BOX.png http://gdimg.gmarket.co.kr/None/still/300\n",
      "[청정미인]히아루론 수분크림 200g 1+1 대용량 화장품 +쇼핑백.png http://gdimg.gmarket.co.kr/None/still/300\n",
      "(카드10%) 비발디파크 리프트권+렌탈 특가.png http://gdimg.gmarket.co.kr/None/still/300\n",
      "[에브리봇]에브리봇 물걸레 로봇청소기 Edge 공식인증.png http://gdimg.gmarket.co.kr/None/still/300\n",
      "[천지양]6년근 고려홍삼진액스틱  홍삼스틱 1+1 총2박스.png http://gdimg.gmarket.co.kr/None/still/300\n",
      "제주 나영이네농장 고당도 레드향 5kg(19~27과)-대과.png http://gdimg.gmarket.co.kr/None/still/300\n",
      "한라봉선물세트 3kg(10-12수).png http://gdimg.gmarket.co.kr/None/still/300\n",
      "왕들이 먹었던 성전 보석귤 제주 4.5kg 감귤 제주귤.png http://gdimg.gmarket.co.kr/None/still/300\n",
      "[갤럭시]노트10 노트8 노트9 S10 S9 S8 플러스 핸드폰 케이스.png http://gdimg.gmarket.co.kr/None/still/300\n",
      "[이디야커피](이디야커피) 1만원권.png http://gdimg.gmarket.co.kr/None/still/300\n",
      "[종근당]락토핏 생유산균 3개.png http://gdimg.gmarket.co.kr/None/still/300\n",
      "[베지밀]베지밀 뼈에좋은 칼슘두유 190ml 3종 48팩.png http://gdimg.gmarket.co.kr/None/still/300\n",
      "[그레이드]그레이드 자동분사기 리필 라벤더4개+향기걸이3종증정.png http://gdimg.gmarket.co.kr/None/still/300\n",
      "[즙쟁이]도라지배즙 2박스 60포 설선물세트.png http://gdimg.gmarket.co.kr/None/still/300\n",
      "[LG생활건강]제주 돔베팸 52호 캔햄 선물세트.png http://gdimg.gmarket.co.kr/None/still/300\n",
      "[동서]동서식품 맥심 모카골드  화이트골드커피믹스 320T (160T+160T) 택1.png http://gdimg.gmarket.co.kr/None/still/300\n",
      "[스팸]스팸 8호 선물세트햄세트 스팸세트 명절 쇼핑백포함.png http://gdimg.gmarket.co.kr/None/still/300\n",
      "[그린너트]엘 에브리데이넛츠 30+30개입 실속선물세트 쇼핑백증정.png http://gdimg.gmarket.co.kr/None/still/300\n",
      "[케이스위스]남여공용 트레이닝세트+패딩 3종세트 쿠폰가 27920원.png http://gdimg.gmarket.co.kr/None/still/300\n",
      "(묶음할인)유한킴벌리_크리넥스도톰한순수소프트 천연펄프 3겹 _30Mx30R.png http://gdimg.gmarket.co.kr/None/still/300\n",
      "[닥터웰]불가마 황토 전기 찜질기 HDW-200 (중형).png http://gdimg.gmarket.co.kr/None/still/300\n",
      "(설선물)1+1 한라봉선물세트천혜향레드향선물세트.png http://gdimg.gmarket.co.kr/None/still/300\n",
      "[커피빈]커피빈 모바일 1만원권   스마일페이.png http://gdimg.gmarket.co.kr/None/still/300\n",
      "[크리넥스]마이비데 리필 46매x10개휴지물티슈.png http://gdimg.gmarket.co.kr/None/still/300\n",
      "[이니스프리]이니스프리 클렌징폼티슈 1+1 트루케어 클리어런스.png http://gdimg.gmarket.co.kr/None/still/300\n",
      "비니수 기획특가 가을신상모음전.png http://gdimg.gmarket.co.kr/None/still/300\n"
     ]
    }
   ],
   "source": [
    "for idx, row in items_df.iterrows():\n",
    "    link = \"http://gdimg.gmarket.co.kr/{}/still/300\".format(row[\"code\"])\n",
    "    title = row[\"title\"] + \".png\"\n",
    "    title = title.replace(\"/\", \"\")\n",
    "    print(title, link)\n",
    "    download(title, link)"
   ]
  },
  {
   "cell_type": "code",
   "execution_count": 25,
   "metadata": {},
   "outputs": [
    {
     "data": {
      "text/plain": [
       "200"
      ]
     },
     "execution_count": 25,
     "metadata": {},
     "output_type": "execute_result"
    }
   ],
   "source": [
    "imgs = !ls datas\n",
    "len(imgs)"
   ]
  },
  {
   "cell_type": "code",
   "execution_count": null,
   "metadata": {},
   "outputs": [],
   "source": []
  },
  {
   "cell_type": "code",
   "execution_count": null,
   "metadata": {},
   "outputs": [],
   "source": []
  },
  {
   "cell_type": "code",
   "execution_count": null,
   "metadata": {},
   "outputs": [],
   "source": []
  },
  {
   "cell_type": "code",
   "execution_count": null,
   "metadata": {},
   "outputs": [],
   "source": []
  },
  {
   "cell_type": "code",
   "execution_count": null,
   "metadata": {},
   "outputs": [],
   "source": []
  },
  {
   "cell_type": "code",
   "execution_count": null,
   "metadata": {},
   "outputs": [],
   "source": []
  },
  {
   "cell_type": "code",
   "execution_count": null,
   "metadata": {},
   "outputs": [],
   "source": []
  }
 ],
 "metadata": {
  "kernelspec": {
   "display_name": "Python 3",
   "language": "python",
   "name": "python3"
  },
  "language_info": {
   "codemirror_mode": {
    "name": "ipython",
    "version": 3
   },
   "file_extension": ".py",
   "mimetype": "text/x-python",
   "name": "python",
   "nbconvert_exporter": "python",
   "pygments_lexer": "ipython3",
   "version": "3.7.4"
  }
 },
 "nbformat": 4,
 "nbformat_minor": 2
}
