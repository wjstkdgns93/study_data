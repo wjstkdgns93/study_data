{
 "cells": [
  {
   "cell_type": "code",
   "execution_count": 1,
   "metadata": {},
   "outputs": [
    {
     "data": {
      "text/plain": [
       "14"
      ]
     },
     "execution_count": 1,
     "metadata": {},
     "output_type": "execute_result"
    }
   ],
   "source": [
    "1+2\n",
    "a=5\n",
    "b=9\n",
    "a+b"
   ]
  },
  {
   "cell_type": "markdown",
   "metadata": {},
   "source": [
    "### autopep8 기능 추가\n",
    "- nbextentions config 설치\n",
    "    - `$ conda install -c conda-forge jupyter_contrib_nbextensions`\n",
    "    - 주피터 노트북 서버 재시작\n",
    "- autopep8 패키지 설치\n",
    "    - 아래의 명령중 한가지만 선택해서 설치\n",
    "    - `$ pip install autopep8`, `$ conda install -c conda-forge autopep8`\n",
    "- Edit - nbextentions config 메뉴로 들어가서 autopep8 체크\n",
    "- 단일셀 : ctrl + l\n",
    "- 모든셀 : ctrl + shift + l"
   ]
  },
  {
   "cell_type": "code",
   "execution_count": null,
   "metadata": {},
   "outputs": [],
   "source": []
  }
 ],
 "metadata": {
  "kernelspec": {
   "display_name": "Python 3",
   "language": "python",
   "name": "python3"
  },
  "language_info": {
   "codemirror_mode": {
    "name": "ipython",
    "version": 3
   },
   "file_extension": ".py",
   "mimetype": "text/x-python",
   "name": "python",
   "nbconvert_exporter": "python",
   "pygments_lexer": "ipython3",
   "version": "3.7.4"
  }
 },
 "nbformat": 4,
 "nbformat_minor": 2
}
