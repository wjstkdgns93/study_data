{
 "cells": [
  {
   "cell_type": "markdown",
   "metadata": {},
   "source": [
    "### summary\n",
    "    -jupyter notebook\n",
    "    \n",
    "        -mode : 명령모드, 편집모드\n",
    "        -style : markdown, code\n",
    "        -단축기\n",
    "            -실행 :shift + enter\n",
    "            -자동완성 : tab\n",
    "            -docstring 보기 : shift + tab\n",
    "            - 주석 설정 : cmd(ctrl) + /\n",
    "            -셀 생성 : a(위), b(아래)\n",
    "            \n",
    "    -python 기본 문법\n",
    "    \n",
    "        -변수 선언 : RAM 저장공간에 값을 할당하는 행위\n",
    "        \n",
    "        -식별자 규칙\n",
    "            -대문자, 소문자, 숫자, _\n",
    "            -가장 앞글자 숫자사용 불가\n",
    "            -예약어 사용이 불가 :def,class, try ...\n",
    "            -snake_case(변수, 함수), CamelCase(클래스)\n",
    "            -pep8 문서\n",
    "            \n",
    "        -데이터 타입\n",
    "            -동적 타이핑 : 자동으로 저장공간의 데이터 타입이 설정\n",
    "            -기본 데이터 타입 : int, float, bool, str\n",
    "            - 컬렉션 데이터 타입 :list(iterable), tuple(iterable:순서 ㅇ), dict\n",
    "            -offset index : 특정 위치의 데이터를 출력할때 사용\n",
    "                -[] : mask, masking\n",
    "                -[idx] : idx 위치 데이터를 출력\n",
    "                -[start : end] : start에서 end까지 출력(end 미포함)\n",
    "                -[start:end:stride] : stride만큼씩 점프하여 출력\n",
    "            -각 데이터 타입별로 함수가 있습니다.\n",
    "            \n",
    "        -형 변환\n",
    "            -이미 변수에 설정된 데이터 타입을 변경하는 행위\n",
    "            -zip\n",
    "                -여러개의 리스트를 같은 인덱스끼리 묶어주는함숨\n",
    "                -두개의 리스트를 묶어서 dict 형변환\n",
    "        -연산자\n",
    "            -산술 : +, -, *, ** ,/ ,//, % \n",
    "            -할당 : A (산술) = (data)\n",
    "            -비교 : <, >, ==, <=, >=, !=\n",
    "            -논리 : and, or, not\n",
    "            -멤버 :in, not in"
   ]
  },
  {
   "cell_type": "markdown",
   "metadata": {},
   "source": [
    "### 1. 조건문\n",
    "    -특정 조건에 따라서 코드를 실행하고자 할때 사용\n",
    "    -if, else, elif"
   ]
  },
  {
   "cell_type": "code",
   "execution_count": 2,
   "metadata": {},
   "outputs": [
    {
     "name": "stdout",
     "output_type": "stream",
     "text": [
      "done\n"
     ]
    }
   ],
   "source": [
    "#조건부분에 : bool 데이터 타입 이외의 데이터 타입이 오면 bool으로 형변환 되어 판단\n",
    "\n",
    "if False:\n",
    "    print(\"python\")\n",
    "    \n",
    "print(\"done\")"
   ]
  },
  {
   "cell_type": "code",
   "execution_count": 3,
   "metadata": {},
   "outputs": [
    {
     "data": {
      "text/plain": [
       "(False, True, True, True)"
      ]
     },
     "execution_count": 3,
     "metadata": {},
     "output_type": "execute_result"
    }
   ],
   "source": [
    "#int : 0을 제외한 나머지 값은 true\n",
    "bool(0), bool(1), bool(-1), bool(100)"
   ]
  },
  {
   "cell_type": "code",
   "execution_count": 4,
   "metadata": {},
   "outputs": [
    {
     "name": "stdout",
     "output_type": "stream",
     "text": [
      "python_2\n"
     ]
    }
   ],
   "source": [
    "num=0\n",
    "if num:\n",
    "    print(\"python_1\")\n",
    "    \n",
    "num=1\n",
    "if num:\n",
    "    print(\"python_2\")"
   ]
  },
  {
   "cell_type": "code",
   "execution_count": 6,
   "metadata": {
    "scrolled": true
   },
   "outputs": [
    {
     "name": "stdout",
     "output_type": "stream",
     "text": [
      "짝수\n"
     ]
    }
   ],
   "source": [
    "number = 6\n",
    "\n",
    "if number % 2:\n",
    "    print(\"홀수\")\n",
    "else  :\n",
    "    print(\"짝수\")\n",
    "    "
   ]
  },
  {
   "cell_type": "code",
   "execution_count": null,
   "metadata": {},
   "outputs": [],
   "source": [
    "# float :0.0을 제외한 나머지는 True\n",
    "# str: \"\"를 제외한 나머지 문자열은 True\n",
    "# list, tuple, dict :[],(),{}를 제외한 나머지는 True"
   ]
  },
  {
   "cell_type": "code",
   "execution_count": null,
   "metadata": {},
   "outputs": [],
   "source": [
    "#지갑에 돈이 10000원 이상 있으면 택시를 타고 그렇지 않으면 집에 걸어 갑니다."
   ]
  },
  {
   "cell_type": "code",
   "execution_count": 7,
   "metadata": {},
   "outputs": [
    {
     "name": "stdout",
     "output_type": "stream",
     "text": [
      "택시를 타고 집에 갑니다\n"
     ]
    }
   ],
   "source": [
    "money= 12000\n",
    "\n",
    "if money >= 10000:\n",
    "    print(\"택시를 타고 집에 갑니다\")\n",
    "    \n",
    "if money < 10000:\n",
    "    print(\"걸어서 집에 갑니다.\")"
   ]
  },
  {
   "cell_type": "code",
   "execution_count": 9,
   "metadata": {},
   "outputs": [
    {
     "name": "stdout",
     "output_type": "stream",
     "text": [
      "일반 버스를 타고 집에 갑니다.\n"
     ]
    }
   ],
   "source": [
    "money= 4000\n",
    "\n",
    "if money >= 10000:\n",
    "    print(\"택시를 타고 집에 갑니다\")\n",
    "elif money >= 5000:\n",
    "    print(\"광역 버스를 타고 집에 갑니다.\")    \n",
    "elif money >= 2000:\n",
    "    print(\"일반 버스를 타고 집에 갑니다.\")\n",
    "else:\n",
    "    print(\"걸어서 집에 갑니다\")"
   ]
  },
  {
   "cell_type": "code",
   "execution_count": null,
   "metadata": {},
   "outputs": [],
   "source": [
    "#계좌에 10000이 들어 있습니다.\n",
    "#인출 금액을 입력 받습니다.\n",
    "#인출 금액이 계좌에 있는 금액보다 크면 \"인출이 불가능 합니다\". 출력\n",
    "#인출 금액이 계죄에 있는 금액보다 작으면 \"인출 되었습니다\". 출력\n",
    "#마지막에 현재 계좌의 잔액을 출력"
   ]
  },
  {
   "cell_type": "code",
   "execution_count": 10,
   "metadata": {
    "scrolled": true
   },
   "outputs": [
    {
     "name": "stdout",
     "output_type": "stream",
     "text": [
      "draw money : 5000\n"
     ]
    },
    {
     "data": {
      "text/plain": [
       "(int, 5000)"
      ]
     },
     "execution_count": 10,
     "metadata": {},
     "output_type": "execute_result"
    }
   ],
   "source": [
    "data = int(input(\"draw money : \")) # input 은 str으로 받아서  int()로 형변환\n",
    "type(data), data"
   ]
  },
  {
   "cell_type": "code",
   "execution_count": null,
   "metadata": {},
   "outputs": [],
   "source": [
    "account= 10000"
   ]
  },
  {
   "cell_type": "code",
   "execution_count": 18,
   "metadata": {},
   "outputs": [
    {
     "name": "stdout",
     "output_type": "stream",
     "text": [
      "insert draw money :2000\n",
      "2000원이 인출 되었습니다.\n",
      "현재 잔액은0 원 입니다.\n"
     ]
    }
   ],
   "source": [
    "\n",
    "draw_money = int(input(\"insert draw money :\"))\n",
    "\n",
    "if account >= draw_money:\n",
    "    account -= draw_money\n",
    "    print(str(draw_money) + \"원이 인출 되었습니다.\")\n",
    "else:\n",
    "    print(\"인출이 불가능합니다.\" + str(draw_money- account) + \"원의 잔액이 부족합니다.\")\n",
    "    \n",
    "print(\"현재 잔액은\" + str(account)+\" 원 입니다.\")"
   ]
  },
  {
   "cell_type": "code",
   "execution_count": 14,
   "metadata": {},
   "outputs": [
    {
     "name": "stdout",
     "output_type": "stream",
     "text": [
      "현재 잔액은 5000원 입니다\n",
      "현재 잔액은  5000원 입니다,인출 금액은 5000입니다,\n",
      "현재 잔액은  5000원 입니다,인출 금액은 5000입니다,\n"
     ]
    }
   ],
   "source": [
    "#string 데이터 타입의 format 함수\n",
    "print(\"현재 잔액은 \" +str(account)+\"원 입니다\")\n",
    "print(\"현재 잔액은  {}원 입니다,인출 금액은 {}입니다,\".format(draw_money,account))\n",
    "print(\"현재 잔액은  {data1}원 입니다,인출 금액은 {data2}입니다,\".format(data2=draw_money,data1=account))"
   ]
  },
  {
   "cell_type": "markdown",
   "metadata": {},
   "source": [
    "###  삼항 연산자\n",
    "- 간단한 if,else 구문을 한줄의 코드로 표현할 수 있는 방법\n",
    "- (True) if(condition) else(False)"
   ]
  },
  {
   "cell_type": "code",
   "execution_count": 22,
   "metadata": {},
   "outputs": [
    {
     "name": "stdout",
     "output_type": "stream",
     "text": [
      "not zero\n"
     ]
    },
    {
     "data": {
      "text/plain": [
       "'not zero'"
      ]
     },
     "execution_count": 22,
     "metadata": {},
     "output_type": "execute_result"
    }
   ],
   "source": [
    "#data 변수에 0 이면 \"zero\" 출력,아니면\"not zero\" 출력\n",
    "\n",
    "data =1\n",
    "\n",
    "if data:\n",
    "    print(\"not zero\")\n",
    "else:\n",
    "    print(\"zero\")\n",
    "    \n",
    "result=\"not zero\"if data else \"zero\"\n",
    "result"
   ]
  },
  {
   "cell_type": "markdown",
   "metadata": {},
   "source": [
    "### 2. 반복문\n",
    "- 반복되는 코드를 실행할때 사용\n",
    "- while, for, break, continue\n",
    "- list comprechention"
   ]
  },
  {
   "cell_type": "code",
   "execution_count": 23,
   "metadata": {},
   "outputs": [
    {
     "name": "stdout",
     "output_type": "stream",
     "text": [
      "3\n",
      "2\n",
      "1\n"
     ]
    }
   ],
   "source": [
    "#while\n",
    "\n",
    "data= 3\n",
    "\n",
    "while data: # 조건이 False 가 될때까지 구문의 코드를 실행\n",
    "    #반복되는 코드\n",
    "    print(data)\n",
    "    data -= 1"
   ]
  },
  {
   "cell_type": "code",
   "execution_count": 30,
   "metadata": {},
   "outputs": [
    {
     "data": {
      "text/plain": [
       "(270, 90.0)"
      ]
     },
     "execution_count": 30,
     "metadata": {},
     "output_type": "execute_result"
    }
   ],
   "source": [
    "#학생이 국어-80, 영어-90, 수학-100 while문을 이용해서 총점과 평균을 출력\n",
    "#학생의 점수는 list,dict 표현\n",
    "#len(),dict.values(),list.pop()\n",
    "\n",
    "subjects_ls=[\"korean\",\"english\",\"math\"]\n",
    "points_ls= [80,90,100]\n",
    "points_dict={\"korean\":80,\"english\":90,\"math\":100}\n",
    "\n"
   ]
  },
  {
   "cell_type": "code",
   "execution_count": 31,
   "metadata": {},
   "outputs": [
    {
     "data": {
      "text/plain": [
       "(270, 90.0)"
      ]
     },
     "execution_count": 31,
     "metadata": {},
     "output_type": "execute_result"
    }
   ],
   "source": [
    "i=3\n",
    "total= 0\n",
    "avg= 0.0\n",
    "\n",
    "while i:\n",
    "    i-=1\n",
    "    total += points_ls[i]\n",
    "\n",
    "avg= total/3\n",
    "\n",
    "total,avg"
   ]
  },
  {
   "cell_type": "code",
   "execution_count": 33,
   "metadata": {},
   "outputs": [],
   "source": [
    "datas = points_ls.copy() #깊은복사 : 원본데이터를 보존\n",
    "total,avg = 0,0"
   ]
  },
  {
   "cell_type": "code",
   "execution_count": 34,
   "metadata": {},
   "outputs": [
    {
     "data": {
      "text/plain": [
       "(270, 90.0)"
      ]
     },
     "execution_count": 34,
     "metadata": {},
     "output_type": "execute_result"
    }
   ],
   "source": [
    "while datas:\n",
    "    total += datas.pop()\n",
    "\n",
    "avg = total/ len(points_ls)\n",
    "total, avg"
   ]
  },
  {
   "cell_type": "code",
   "execution_count": 36,
   "metadata": {},
   "outputs": [
    {
     "name": "stdout",
     "output_type": "stream",
     "text": [
      "10\n"
     ]
    }
   ],
   "source": [
    "#무한 루프\n",
    "#break : 반복문을 중단시킬때 사용되는 예약어\n",
    "result =1\n",
    "while result:\n",
    "    \n",
    "    if result >=10:\n",
    "        break\n",
    "        \n",
    "    result +=1\n",
    "\n",
    "print(result)"
   ]
  },
  {
   "cell_type": "markdown",
   "metadata": {},
   "source": [
    "### for\n",
    "- iterable 한 값을 하나씩 꺼내서 variable 을 대입시킨 후 코드를 interable 변수의 값 갯수 만큼 실행\n",
    "    \n",
    "    for <variable.> in <iterables.> :\n",
    "        <code>"
   ]
  },
  {
   "cell_type": "code",
   "execution_count": 37,
   "metadata": {},
   "outputs": [
    {
     "name": "stdout",
     "output_type": "stream",
     "text": [
      "0 2 4 "
     ]
    }
   ],
   "source": [
    "#for:continue:\n",
    "\n",
    "ls=[0,1,2,3,4]\n",
    "for data in ls:\n",
    "    if data % 2:\n",
    "        continue\n",
    "    print(data,end=\" \")"
   ]
  },
  {
   "cell_type": "code",
   "execution_count": 42,
   "metadata": {},
   "outputs": [
    {
     "data": {
      "text/plain": [
       "4950"
      ]
     },
     "execution_count": 42,
     "metadata": {},
     "output_type": "execute_result"
    }
   ],
   "source": [
    "#for를 이용해서 100번 실행\n",
    "#range 함수\n",
    "list(range(100))\n",
    "result=0\n",
    "for data in range(100):\n",
    "    result += data\n",
    "result"
   ]
  },
  {
   "cell_type": "code",
   "execution_count": 46,
   "metadata": {},
   "outputs": [
    {
     "data": {
      "text/plain": [
       "([0, 1, 2, 3, 4], [5, 6, 7, 8, 9], [10, 8, 6, 4, 2])"
      ]
     },
     "execution_count": 46,
     "metadata": {},
     "output_type": "execute_result"
    }
   ],
   "source": [
    "#offset index 개념과 비슷하게 사용\n",
    "list(range(5)),list(range(5,10)),list(range(10,0,-2))"
   ]
  },
  {
   "cell_type": "code",
   "execution_count": 47,
   "metadata": {},
   "outputs": [
    {
     "data": {
      "text/plain": [
       "30"
      ]
     },
     "execution_count": 47,
     "metadata": {},
     "output_type": "execute_result"
    }
   ],
   "source": [
    "# 0~10 까지 짝수를 더한 총합\n",
    "result =0\n",
    "for number in range(0,11,2):\n",
    "    result += number\n",
    "    \n",
    "result"
   ]
  },
  {
   "cell_type": "code",
   "execution_count": 56,
   "metadata": {},
   "outputs": [],
   "source": [
    "points_dict={\"korean\":80,\"english\":90,\"math\":100}"
   ]
  },
  {
   "cell_type": "code",
   "execution_count": 50,
   "metadata": {},
   "outputs": [
    {
     "data": {
      "text/plain": [
       "['korean', 'english', 'math']"
      ]
     },
     "execution_count": 50,
     "metadata": {},
     "output_type": "execute_result"
    }
   ],
   "source": [
    "list(point_dict.keys())"
   ]
  },
  {
   "cell_type": "code",
   "execution_count": 52,
   "metadata": {},
   "outputs": [
    {
     "data": {
      "text/plain": [
       "[('korean', 80), ('english', 90), ('math', 100)]"
      ]
     },
     "execution_count": 52,
     "metadata": {},
     "output_type": "execute_result"
    }
   ],
   "source": [
    "list(point_dict.items())"
   ]
  },
  {
   "cell_type": "code",
   "execution_count": 57,
   "metadata": {},
   "outputs": [
    {
     "name": "stdout",
     "output_type": "stream",
     "text": [
      "korean 80\n",
      "english 90\n",
      "math 100\n"
     ]
    }
   ],
   "source": [
    "for subject,point in points_dict.items():\n",
    "    print(subject,point)"
   ]
  },
  {
   "cell_type": "code",
   "execution_count": null,
   "metadata": {},
   "outputs": [],
   "source": [
    "# 구구단 출력"
   ]
  },
  {
   "cell_type": "code",
   "execution_count": 71,
   "metadata": {},
   "outputs": [
    {
     "name": "stdout",
     "output_type": "stream",
     "text": [
      "2*1=2\t2*2=4\t2*3=6\t2*4=8\t2*5=10\t2*6=12\t2*7=14\t2*8=16\t2*9=18\t\n",
      "3*1=3\t3*2=6\t3*3=9\t3*4=12\t3*5=15\t3*6=18\t3*7=21\t3*8=24\t3*9=27\t\n",
      "4*1=4\t4*2=8\t4*3=12\t4*4=16\t4*5=20\t4*6=24\t4*7=28\t4*8=32\t4*9=36\t\n",
      "5*1=5\t5*2=10\t5*3=15\t5*4=20\t5*5=25\t5*6=30\t5*7=35\t5*8=40\t5*9=45\t\n",
      "6*1=6\t6*2=12\t6*3=18\t6*4=24\t6*5=30\t6*6=36\t6*7=42\t6*8=48\t6*9=54\t\n",
      "7*1=7\t7*2=14\t7*3=21\t7*4=28\t7*5=35\t7*6=42\t7*7=49\t7*8=56\t7*9=63\t\n",
      "8*1=8\t8*2=16\t8*3=24\t8*4=32\t8*5=40\t8*6=48\t8*7=56\t8*8=64\t8*9=72\t\n",
      "9*1=9\t9*2=18\t9*3=27\t9*4=36\t9*5=45\t9*6=54\t9*7=63\t9*8=72\t9*9=81\t\n"
     ]
    }
   ],
   "source": [
    "for number_1 in range(2,10):\n",
    "    for number_2 in range(1,10):\n",
    "        print(\"{}*{}={}\".format(number_1,number_2,number_1*number_2),end=\"\\t\")\n",
    "    print()"
   ]
  },
  {
   "cell_type": "markdown",
   "metadata": {},
   "source": [
    "### 3. List Comprehention\n",
    "- 리스트 데이터를 만들어주는 방법\n",
    "- for문 보다 빠르게 동작"
   ]
  },
  {
   "cell_type": "code",
   "execution_count": 72,
   "metadata": {},
   "outputs": [
    {
     "data": {
      "text/plain": [
       "[0, 1, 4, 9]"
      ]
     },
     "execution_count": 72,
     "metadata": {},
     "output_type": "execute_result"
    }
   ],
   "source": [
    "#각각 값에 제곱한 결과 출력\n",
    "ls=[0,1,2,3]\n",
    "result=[]\n",
    "\n",
    "for data in ls:\n",
    "    result.append(data**2)\n",
    "    \n",
    "result"
   ]
  },
  {
   "cell_type": "code",
   "execution_count": 73,
   "metadata": {},
   "outputs": [
    {
     "data": {
      "text/plain": [
       "[0, 1, 4, 9]"
      ]
     },
     "execution_count": 73,
     "metadata": {},
     "output_type": "execute_result"
    }
   ],
   "source": [
    "result = [data**2 for data in ls]\n",
    "result"
   ]
  },
  {
   "cell_type": "code",
   "execution_count": 74,
   "metadata": {},
   "outputs": [
    {
     "data": {
      "text/plain": [
       "['짝수', '홀수', '짝수', '홀수']"
      ]
     },
     "execution_count": 74,
     "metadata": {},
     "output_type": "execute_result"
    }
   ],
   "source": [
    "#리스트 컴프리헨션을 써서 홀수와 짝수를 리스트로 출력해주는 코드\n",
    "#삼항연산 사용\n",
    "ls=[0,1,2,3]\n",
    "#result=[\"짝수\",\"홀수\",\"짝수\",\"홀수\"]\n",
    "\n",
    "result=[\n",
    "    \"홀수\" if data%2 else \"짝수\"\n",
    "    for data in ls\n",
    "]\n",
    "result\n"
   ]
  },
  {
   "cell_type": "code",
   "execution_count": 75,
   "metadata": {},
   "outputs": [
    {
     "data": {
      "text/plain": [
       "[1, 3, 5, 7, 9]"
      ]
     },
     "execution_count": 75,
     "metadata": {},
     "output_type": "execute_result"
    }
   ],
   "source": [
    "#리스트 컴프리핸션 조건문\n",
    "ls = range(10)\n",
    "[data for data in ls if data%2]"
   ]
  },
  {
   "cell_type": "code",
   "execution_count": 78,
   "metadata": {},
   "outputs": [
    {
     "data": {
      "text/plain": [
       "['clear', 'copy', 'count']"
      ]
     },
     "execution_count": 78,
     "metadata": {},
     "output_type": "execute_result"
    }
   ],
   "source": [
    "ls=[1,2,3]\n",
    "[func for func in dir(ls) if func[:2] !=\"__\" and func[0] == \"c\"]"
   ]
  },
  {
   "cell_type": "code",
   "execution_count": null,
   "metadata": {},
   "outputs": [],
   "source": [
    "#for문과 list comprehention 성능 비교"
   ]
  },
  {
   "cell_type": "code",
   "execution_count": 85,
   "metadata": {},
   "outputs": [
    {
     "name": "stdout",
     "output_type": "stream",
     "text": [
      "690 µs ± 5.94 µs per loop (mean ± std. dev. of 7 runs, 1000 loops each)\n"
     ]
    }
   ],
   "source": [
    "%%timeit #시간체크\n",
    "ls=[]\n",
    "for num in range(1,10001):\n",
    "    ls.append(num)\n",
    "len(ls)"
   ]
  },
  {
   "cell_type": "code",
   "execution_count": 86,
   "metadata": {
    "scrolled": false
   },
   "outputs": [
    {
     "name": "stdout",
     "output_type": "stream",
     "text": [
      "663 µs ± 9.64 µs per loop (mean ± std. dev. of 7 runs, 1000 loops each)\n"
     ]
    }
   ],
   "source": [
    "%%timeit #시간체크\n",
    "ls=[num for num in range(1,10001) if num%3 == 0]\n",
    "len(ls)"
   ]
  },
  {
   "cell_type": "code",
   "execution_count": null,
   "metadata": {},
   "outputs": [],
   "source": []
  }
 ],
 "metadata": {
  "kernelspec": {
   "display_name": "Python 3",
   "language": "python",
   "name": "python3"
  },
  "language_info": {
   "codemirror_mode": {
    "name": "ipython",
    "version": 3
   },
   "file_extension": ".py",
   "mimetype": "text/x-python",
   "name": "python",
   "nbconvert_exporter": "python",
   "pygments_lexer": "ipython3",
   "version": "3.7.4"
  }
 },
 "nbformat": 4,
 "nbformat_minor": 2
}
