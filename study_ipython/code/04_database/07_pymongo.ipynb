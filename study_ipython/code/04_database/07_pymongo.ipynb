{
 "cells": [
  {
   "cell_type": "markdown",
   "metadata": {},
   "source": [
    "### pymongo\n",
    "- python 에서 MongoDB 작업을 위한 도구\n",
    "- pip install pymongo==2.8.1\n",
    "- pip install requests"
   ]
  },
  {
   "cell_type": "code",
   "execution_count": 12,
   "metadata": {},
   "outputs": [],
   "source": [
    "import pymongo\n",
    "import pandas as pd"
   ]
  },
  {
   "cell_type": "code",
   "execution_count": 4,
   "metadata": {},
   "outputs": [],
   "source": [
    "import zigbang as zb"
   ]
  },
  {
   "cell_type": "code",
   "execution_count": 6,
   "metadata": {},
   "outputs": [
    {
     "data": {
      "text/plain": [
       "MongoClient('13.125.153.195', 27017)"
      ]
     },
     "execution_count": 6,
     "metadata": {},
     "output_type": "execute_result"
    }
   ],
   "source": [
    "# 데이터 베이스 서버 연결\n",
    "client = pymongo.MongoClient(\"mongodb://13.125.153.195:27017/\")\n",
    "client"
   ]
  },
  {
   "cell_type": "code",
   "execution_count": 7,
   "metadata": {},
   "outputs": [
    {
     "data": {
      "text/plain": [
       "Collection(Database(MongoClient('13.125.153.195', 27017), 'crawling'), 'zigbang')"
      ]
     },
     "execution_count": 7,
     "metadata": {},
     "output_type": "execute_result"
    }
   ],
   "source": [
    "# 데이터 베이스와 컬렉션 생성\n",
    "zigbang = client.crawling.zigbang\n",
    "zigbang"
   ]
  },
  {
   "cell_type": "code",
   "execution_count": 8,
   "metadata": {},
   "outputs": [
    {
     "data": {
      "text/plain": [
       "91"
      ]
     },
     "execution_count": 8,
     "metadata": {},
     "output_type": "execute_result"
    }
   ],
   "source": [
    "items = zb.main(\"성수동\")\n",
    "len(items)"
   ]
  },
  {
   "cell_type": "code",
   "execution_count": 10,
   "metadata": {},
   "outputs": [
    {
     "data": {
      "text/plain": [
       "91"
      ]
     },
     "execution_count": 10,
     "metadata": {},
     "output_type": "execute_result"
    }
   ],
   "source": [
    "ids = zigbang.insert(items)\n",
    "len(ids)"
   ]
  },
  {
   "cell_type": "markdown",
   "metadata": {},
   "source": [
    "- 데이터 프레임 저장"
   ]
  },
  {
   "cell_type": "code",
   "execution_count": 13,
   "metadata": {},
   "outputs": [
    {
     "data": {
      "text/html": [
       "<div>\n",
       "<style scoped>\n",
       "    .dataframe tbody tr th:only-of-type {\n",
       "        vertical-align: middle;\n",
       "    }\n",
       "\n",
       "    .dataframe tbody tr th {\n",
       "        vertical-align: top;\n",
       "    }\n",
       "\n",
       "    .dataframe thead th {\n",
       "        text-align: right;\n",
       "    }\n",
       "</style>\n",
       "<table border=\"1\" class=\"dataframe\">\n",
       "  <thead>\n",
       "    <tr style=\"text-align: right;\">\n",
       "      <th></th>\n",
       "      <th>_floor</th>\n",
       "      <th>address1</th>\n",
       "      <th>rent</th>\n",
       "      <th>size</th>\n",
       "      <th>deposit</th>\n",
       "      <th>options</th>\n",
       "    </tr>\n",
       "  </thead>\n",
       "  <tbody>\n",
       "    <tr>\n",
       "      <th>89</th>\n",
       "      <td>2층</td>\n",
       "      <td>서울시 성동구 성수동2가</td>\n",
       "      <td>0</td>\n",
       "      <td>16.0</td>\n",
       "      <td>23000</td>\n",
       "      <td>-</td>\n",
       "    </tr>\n",
       "    <tr>\n",
       "      <th>90</th>\n",
       "      <td>3층</td>\n",
       "      <td>서울시 성동구 성수동1가</td>\n",
       "      <td>60</td>\n",
       "      <td>15.0</td>\n",
       "      <td>3000</td>\n",
       "      <td>-</td>\n",
       "    </tr>\n",
       "  </tbody>\n",
       "</table>\n",
       "</div>"
      ],
      "text/plain": [
       "   _floor       address1  rent  size  deposit options\n",
       "89     2층  서울시 성동구 성수동2가     0  16.0    23000       -\n",
       "90     3층  서울시 성동구 성수동1가    60  15.0     3000       -"
      ]
     },
     "execution_count": 13,
     "metadata": {},
     "output_type": "execute_result"
    }
   ],
   "source": [
    "sungsoo_df = pd.DataFrame(items)\n",
    "columns = [\"_floor\", \"address1\", \"rent\", \"size\", \"deposit\", \"options\"]\n",
    "sungsoo_df = sungsoo_df[columns]\n",
    "sungsoo_df.tail(2)"
   ]
  },
  {
   "cell_type": "code",
   "execution_count": 14,
   "metadata": {},
   "outputs": [],
   "source": [
    "zigbang2 = client.crawling.zigbang2"
   ]
  },
  {
   "cell_type": "code",
   "execution_count": 15,
   "metadata": {},
   "outputs": [],
   "source": [
    "items = sungsoo_df.to_dict(\"records\")"
   ]
  },
  {
   "cell_type": "code",
   "execution_count": 16,
   "metadata": {},
   "outputs": [
    {
     "data": {
      "text/plain": [
       "{'_floor': '4층',\n",
       " 'address1': '서울시 성동구 성수동1가',\n",
       " 'rent': 50,\n",
       " 'size': 8.0,\n",
       " 'deposit': 1000,\n",
       " 'options': '에어컨,냉장고,세탁기,인덕션,옷장,신발장,싱크대'}"
      ]
     },
     "execution_count": 16,
     "metadata": {},
     "output_type": "execute_result"
    }
   ],
   "source": [
    "items[0]"
   ]
  },
  {
   "cell_type": "code",
   "execution_count": 17,
   "metadata": {},
   "outputs": [],
   "source": [
    "ids = zigbang2.insert(items)"
   ]
  },
  {
   "cell_type": "markdown",
   "metadata": {},
   "source": [
    "- 데이터 find()"
   ]
  },
  {
   "cell_type": "code",
   "execution_count": 20,
   "metadata": {},
   "outputs": [],
   "source": [
    "results = zigbang2.find()"
   ]
  },
  {
   "cell_type": "code",
   "execution_count": 22,
   "metadata": {},
   "outputs": [
    {
     "data": {
      "text/html": [
       "<div>\n",
       "<style scoped>\n",
       "    .dataframe tbody tr th:only-of-type {\n",
       "        vertical-align: middle;\n",
       "    }\n",
       "\n",
       "    .dataframe tbody tr th {\n",
       "        vertical-align: top;\n",
       "    }\n",
       "\n",
       "    .dataframe thead th {\n",
       "        text-align: right;\n",
       "    }\n",
       "</style>\n",
       "<table border=\"1\" class=\"dataframe\">\n",
       "  <thead>\n",
       "    <tr style=\"text-align: right;\">\n",
       "      <th></th>\n",
       "      <th>_floor</th>\n",
       "      <th>_id</th>\n",
       "      <th>address1</th>\n",
       "      <th>deposit</th>\n",
       "      <th>options</th>\n",
       "      <th>rent</th>\n",
       "      <th>size</th>\n",
       "    </tr>\n",
       "  </thead>\n",
       "  <tbody>\n",
       "    <tr>\n",
       "      <th>61</th>\n",
       "      <td>5층</td>\n",
       "      <td>5dbbdfeaa547631b003bbd04</td>\n",
       "      <td>서울시 성동구 성수동2가</td>\n",
       "      <td>26000</td>\n",
       "      <td>-</td>\n",
       "      <td>0</td>\n",
       "      <td>12.0</td>\n",
       "    </tr>\n",
       "    <tr>\n",
       "      <th>62</th>\n",
       "      <td>3층</td>\n",
       "      <td>5dbbdfeaa547631b003bbd05</td>\n",
       "      <td>서울시 성동구 성수동1가</td>\n",
       "      <td>35000</td>\n",
       "      <td>-</td>\n",
       "      <td>0</td>\n",
       "      <td>22.0</td>\n",
       "    </tr>\n",
       "    <tr>\n",
       "      <th>63</th>\n",
       "      <td>2층</td>\n",
       "      <td>5dbbdfeaa547631b003bbd08</td>\n",
       "      <td>서울시 성동구 성수동1가</td>\n",
       "      <td>18000</td>\n",
       "      <td>-</td>\n",
       "      <td>0</td>\n",
       "      <td>12.0</td>\n",
       "    </tr>\n",
       "    <tr>\n",
       "      <th>64</th>\n",
       "      <td>옥탑방</td>\n",
       "      <td>5dbbdfeaa547631b003bbd0a</td>\n",
       "      <td>서울시 성동구 성수동1가</td>\n",
       "      <td>1000</td>\n",
       "      <td>-</td>\n",
       "      <td>50</td>\n",
       "      <td>10.0</td>\n",
       "    </tr>\n",
       "    <tr>\n",
       "      <th>65</th>\n",
       "      <td>2층</td>\n",
       "      <td>5dbbdfeaa547631b003bbd0b</td>\n",
       "      <td>서울시 성동구 성수동2가</td>\n",
       "      <td>23000</td>\n",
       "      <td>-</td>\n",
       "      <td>0</td>\n",
       "      <td>16.0</td>\n",
       "    </tr>\n",
       "  </tbody>\n",
       "</table>\n",
       "</div>"
      ],
      "text/plain": [
       "   _floor                       _id       address1  deposit options  rent  \\\n",
       "61     5층  5dbbdfeaa547631b003bbd04  서울시 성동구 성수동2가    26000       -     0   \n",
       "62     3층  5dbbdfeaa547631b003bbd05  서울시 성동구 성수동1가    35000       -     0   \n",
       "63     2층  5dbbdfeaa547631b003bbd08  서울시 성동구 성수동1가    18000       -     0   \n",
       "64    옥탑방  5dbbdfeaa547631b003bbd0a  서울시 성동구 성수동1가     1000       -    50   \n",
       "65     2층  5dbbdfeaa547631b003bbd0b  서울시 성동구 성수동2가    23000       -     0   \n",
       "\n",
       "    size  \n",
       "61  12.0  \n",
       "62  22.0  \n",
       "63  12.0  \n",
       "64  10.0  \n",
       "65  16.0  "
      ]
     },
     "execution_count": 22,
     "metadata": {},
     "output_type": "execute_result"
    }
   ],
   "source": [
    "QUERY = {\"rent\": {\"$lte\": 50}}\n",
    "results = zigbang2.find(QUERY)\n",
    "pd.DataFrame(results).tail()"
   ]
  },
  {
   "cell_type": "code",
   "execution_count": 23,
   "metadata": {},
   "outputs": [],
   "source": [
    "# 컬렉션 삭제\n",
    "client.crawling.drop_collection(\"zigbang\")"
   ]
  },
  {
   "cell_type": "code",
   "execution_count": 24,
   "metadata": {},
   "outputs": [],
   "source": [
    "# 데이터 베이스 삭제"
   ]
  },
  {
   "cell_type": "code",
   "execution_count": 25,
   "metadata": {},
   "outputs": [],
   "source": [
    "client.drop_database(\"crawling\")"
   ]
  }
 ],
 "metadata": {
  "kernelspec": {
   "display_name": "Python 3",
   "language": "python",
   "name": "python3"
  },
  "language_info": {
   "codemirror_mode": {
    "name": "ipython",
    "version": 3
   },
   "file_extension": ".py",
   "mimetype": "text/x-python",
   "name": "python",
   "nbconvert_exporter": "python",
   "pygments_lexer": "ipython3",
   "version": "3.6.9"
  },
  "license": "Copyright 2019. Doo Jin Park. All rights reserved."
 },
 "nbformat": 4,
 "nbformat_minor": 2
}
