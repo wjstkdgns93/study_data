{
 "cells": [
  {
   "cell_type": "markdown",
   "metadata": {},
   "source": [
    "1874. 스택수열"
   ]
  },
  {
   "cell_type": "code",
   "execution_count": 10,
   "metadata": {},
   "outputs": [
    {
     "name": "stdout",
     "output_type": "stream",
     "text": [
      "8\n",
      "4\n",
      "3\n",
      "6\n",
      "8\n",
      "7\n",
      "5\n",
      "2\n",
      "1\n"
     ]
    }
   ],
   "source": [
    "n = int(input())\n",
    "Sequence = list()\n",
    "\n",
    "for i in range(n):\n",
    "    Sequence.append(int(input()))\n",
    "\n",
    "    "
   ]
  },
  {
   "cell_type": "code",
   "execution_count": null,
   "metadata": {},
   "outputs": [],
   "source": [
    "stack = list()\n",
    "check=True\n",
    "st_ch = 0\n",
    "stack_num=1\n",
    "Se_ch = 0\n",
    "i=0"
   ]
  },
  {
   "cell_type": "code",
   "execution_count": null,
   "metadata": {},
   "outputs": [],
   "source": [
    "n"
   ]
  },
  {
   "cell_type": "code",
   "execution_count": null,
   "metadata": {},
   "outputs": [],
   "source": [
    "while(check):\n",
    "    print(i)\n",
    "    if len(stack)==0:\n",
    "        stack.append(stack_num)\n",
    "        stack_num+=1\n",
    "        print(\"+\")\n",
    "    elif stack[i-1] == Sequence[Se_ch]:\n",
    "        stack.pop()\n",
    "        print(i)\n",
    "        i -= 1\n",
    "        print(\"-\",i)\n",
    "        Se_ch+=1\n",
    "        if Se_ch>n:\n",
    "            break\n",
    "    else:\n",
    "        stack.append(stack_num)\n",
    "        stack_num+=1\n",
    "        i+=1\n",
    "        print(\"+\")\n"
   ]
  },
  {
   "cell_type": "code",
   "execution_count": null,
   "metadata": {},
   "outputs": [],
   "source": [
    "stack = list()\n",
    "check=True\n",
    "st_ch = 0\n",
    "stack_num=1\n",
    "Se_ch = 0\n",
    "i=0"
   ]
  },
  {
   "cell_type": "code",
   "execution_count": null,
   "metadata": {},
   "outputs": [],
   "source": []
  }
 ],
 "metadata": {
  "kernelspec": {
   "display_name": "Python 3",
   "language": "python",
   "name": "python3"
  },
  "language_info": {
   "codemirror_mode": {
    "name": "ipython",
    "version": 3
   },
   "file_extension": ".py",
   "mimetype": "text/x-python",
   "name": "python",
   "nbconvert_exporter": "python",
   "pygments_lexer": "ipython3",
   "version": "3.7.4"
  }
 },
 "nbformat": 4,
 "nbformat_minor": 2
}
