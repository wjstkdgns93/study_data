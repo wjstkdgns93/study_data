{
 "cells": [
  {
   "cell_type": "code",
   "execution_count": 86,
   "metadata": {},
   "outputs": [],
   "source": [
    "def solution(array, commands):\n",
    "    answer = []\n",
    "    \n",
    "    for i in range(len(commands)):\n",
    "        a = array[commands[i][0] -1 : commands[i][1]]  \n",
    "        bubble_sort(a,commands[i][1]-commands[i][0] +1)\n",
    "        answer.append(a[commands[i][2]-1])\n",
    "        \n",
    "    return answer\n",
    "\n",
    "def bubble_sort(array,range_num):\n",
    "    for i in range(range_num-1):\n",
    "        swap = False\n",
    "        for j in range(range_num-i-1):\n",
    "            if array[j] > array[j+1]:\n",
    "                array[j],array[j+1] = array[j+1],array[j]\n",
    "                swap = True\n",
    "        \n",
    "        if swap == False:\n",
    "            break\n",
    "    return array"
   ]
  },
  {
   "cell_type": "code",
   "execution_count": 87,
   "metadata": {},
   "outputs": [],
   "source": [
    "def solution(numbers):\n",
    "    answer = ''\n",
    "    \n",
    "    text=sort(numbers)\n",
    "    \n",
    "    for i in range(len(text)):\n",
    "        answer += str(text[i])\n",
    "\n",
    "    if int(answer) == 0:\n",
    "        answer = \"0\"\n",
    "        \n",
    "    return answer\n",
    "\n",
    "\n",
    "def sort(num):\n",
    "    if len(num) <=1:\n",
    "        return num\n",
    "        \n",
    "    left,right = list(),list()\n",
    "    pivot = num[0]\n",
    "    \n",
    "    for i in range(1,len(num)):\n",
    "        if str(num[i]) + str(pivot) > str(pivot) + str(num[i]):\n",
    "            left.append(num[i])\n",
    "        else:\n",
    "            right.append(num[i])\n",
    "    \n",
    "    return sort(left) + [pivot] + sort(right)"
   ]
  },
  {
   "cell_type": "code",
   "execution_count": 88,
   "metadata": {},
   "outputs": [],
   "source": [
    "def solution(citations):\n",
    "    answer = 0\n",
    "    h_index = sort(citations)    \n",
    "    \n",
    "    for i in range(len(h_index)):\n",
    "        if h_index[i] < i+1:\n",
    "            answer = i\n",
    "            break\n",
    "        \n",
    "        answer = len(h_index)\n",
    "    \n",
    "    return answer\n",
    "\n",
    "\n",
    "\n",
    "def sort(num):\n",
    "    if len(num) <=1:\n",
    "        return num\n",
    "        \n",
    "    left,right = list(),list()\n",
    "    pivot = num[0]\n",
    "    \n",
    "    for i in range(1,len(num)):\n",
    "        if pivot < num[i]:\n",
    "            left.append(num[i])\n",
    "        else:\n",
    "            right.append(num[i])\n",
    "    \n",
    "    return sort(left) + [pivot] + sort(right)"
   ]
  },
  {
   "cell_type": "code",
   "execution_count": null,
   "metadata": {},
   "outputs": [],
   "source": []
  },
  {
   "cell_type": "code",
   "execution_count": null,
   "metadata": {},
   "outputs": [],
   "source": []
  },
  {
   "cell_type": "code",
   "execution_count": 81,
   "metadata": {},
   "outputs": [],
   "source": [
    "test1 = [0,1,0,1,0,1,0]\n",
    "test2 = [3, 0, 6, 1, 5]\n",
    "test3 = [0,1,6,14,378,38,264,2]\n",
    "test4 = [21,22]"
   ]
  },
  {
   "cell_type": "code",
   "execution_count": 82,
   "metadata": {},
   "outputs": [
    {
     "data": {
      "text/plain": [
       "5"
      ]
     },
     "execution_count": 82,
     "metadata": {},
     "output_type": "execute_result"
    }
   ],
   "source": [
    "solution(test3)"
   ]
  },
  {
   "cell_type": "code",
   "execution_count": 83,
   "metadata": {},
   "outputs": [
    {
     "data": {
      "text/plain": [
       "1"
      ]
     },
     "execution_count": 83,
     "metadata": {},
     "output_type": "execute_result"
    }
   ],
   "source": [
    "solution(test1)"
   ]
  },
  {
   "cell_type": "code",
   "execution_count": 84,
   "metadata": {},
   "outputs": [
    {
     "data": {
      "text/plain": [
       "3"
      ]
     },
     "execution_count": 84,
     "metadata": {},
     "output_type": "execute_result"
    }
   ],
   "source": [
    "solution(test2)"
   ]
  },
  {
   "cell_type": "code",
   "execution_count": 85,
   "metadata": {},
   "outputs": [
    {
     "data": {
      "text/plain": [
       "2"
      ]
     },
     "execution_count": 85,
     "metadata": {},
     "output_type": "execute_result"
    }
   ],
   "source": [
    "solution(test4)"
   ]
  },
  {
   "cell_type": "code",
   "execution_count": null,
   "metadata": {},
   "outputs": [],
   "source": []
  }
 ],
 "metadata": {
  "kernelspec": {
   "display_name": "Python 3",
   "language": "python",
   "name": "python3"
  },
  "language_info": {
   "codemirror_mode": {
    "name": "ipython",
    "version": 3
   },
   "file_extension": ".py",
   "mimetype": "text/x-python",
   "name": "python",
   "nbconvert_exporter": "python",
   "pygments_lexer": "ipython3",
   "version": "3.7.4"
  }
 },
 "nbformat": 4,
 "nbformat_minor": 2
}
