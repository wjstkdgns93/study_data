{
 "cells": [
  {
   "cell_type": "code",
   "execution_count": 57,
   "metadata": {},
   "outputs": [],
   "source": [
    "v1 = [[1,4],[3,4],[3,10]]\n",
    "v2 = [[1,1],[2,2],[1,2]]\n",
    "answer_x =[]\n",
    "answer_y =[]\n",
    "answer_xy = list()\n",
    "answer = []"
   ]
  },
  {
   "cell_type": "code",
   "execution_count": 71,
   "metadata": {},
   "outputs": [
    {
     "data": {
      "text/plain": [
       "list"
      ]
     },
     "execution_count": 71,
     "metadata": {},
     "output_type": "execute_result"
    }
   ],
   "source": [
    "type([0])"
   ]
  },
  {
   "cell_type": "code",
   "execution_count": 85,
   "metadata": {},
   "outputs": [
    {
     "data": {
      "text/plain": [
       "[[1, 3, 3], [4, 4, 10]]"
      ]
     },
     "execution_count": 85,
     "metadata": {},
     "output_type": "execute_result"
    }
   ],
   "source": [
    "for i in range(3):\n",
    "    answer_x += [v1[i][0]]\n",
    "    answer_y += [v1[i][1]]\n",
    "\n",
    "answer_xy.append(answer_x)\n",
    "answer_xy.append(answer_y)\n",
    "answer_xy"
   ]
  },
  {
   "cell_type": "code",
   "execution_count": 86,
   "metadata": {},
   "outputs": [],
   "source": [
    "for i in range(2):\n",
    "    if answer_xy[i][0] != answer_xy[i][1] and answer_xy[i][0] != answer_xy[i][2]:\n",
    "        answer += [answer_xy[i][0]]\n",
    "    elif answer_xy[i][0] == answer_xy[i][1]:\n",
    "        answer += [answer_xy[i][2]]\n",
    "    else:\n",
    "        answer +=[answer_xy[i][1]]\n"
   ]
  },
  {
   "cell_type": "code",
   "execution_count": 53,
   "metadata": {},
   "outputs": [],
   "source": [
    "answer.clear()"
   ]
  },
  {
   "cell_type": "code",
   "execution_count": 87,
   "metadata": {},
   "outputs": [
    {
     "name": "stdout",
     "output_type": "stream",
     "text": [
      "[1, 3, 3] [4, 4, 10] [1, 10]\n"
     ]
    }
   ],
   "source": [
    "\n",
    "print(answer_x,answer_y,answer)"
   ]
  },
  {
   "cell_type": "code",
   "execution_count": 143,
   "metadata": {},
   "outputs": [],
   "source": [
    "board =[[0,0,0,0,0],[0,0,1,0,3],[0,2,5,0,1],[4,2,4,4,2],[3,5,1,3,1]]\n",
    "moves = [1,5,3,5,1,2,1,4]\n",
    "#moves = [1,2,3,4]\n",
    "stack= [1,2,3,54,7,4,2,1]\n",
    "#result = 4\n",
    "answer = 0"
   ]
  },
  {
   "cell_type": "code",
   "execution_count": 141,
   "metadata": {
    "scrolled": true
   },
   "outputs": [
    {
     "name": "stdout",
     "output_type": "stream",
     "text": [
      "[0, 0, 0, 0, 0]\n",
      "[0, 0, 1, 0, 3]\n",
      "[0, 2, 5, 0, 1]\n",
      "[4, 2, 4, 4, 2]\n",
      "[3, 5, 1, 3, 1]\n",
      "1\n"
     ]
    }
   ],
   "source": [
    "for i in range(len(board)):\n",
    "    print(board[i])\n",
    "    "
   ]
  },
  {
   "cell_type": "code",
   "execution_count": 149,
   "metadata": {},
   "outputs": [],
   "source": [
    "def solution(board, moves):\n",
    "    answer = 0\n",
    "    stack_num =0\n",
    "    stack= []\n",
    "    \n",
    "    for j in range(len(moves)):\n",
    "        for i in range(len(board)):\n",
    "            if board[i][moves[j]-1] != 0:\n",
    "                if stack_num !=0 and stack[stack_num-1] == board[i][moves[j]-1]:\n",
    "                    stack.pop()\n",
    "                    answer +=2\n",
    "                    stack_num -=1\n",
    "                else:\n",
    "                    stack.append(board[i][moves[j]-1])\n",
    "                    stack_num +=1\n",
    "                board[i][moves[j]-1] = 0\n",
    "                break\n",
    "    \n",
    "    return answer"
   ]
  },
  {
   "cell_type": "code",
   "execution_count": 282,
   "metadata": {},
   "outputs": [],
   "source": [
    "user_id = [\"frodo\", \"fradi\", \"crodo\", \"abc123\", \"frodoc\"]\n",
    "#banned_id1 =[\"fr*d*\", \"abc1**\"]\n",
    "banned_id1 =[\"*rodo\", \"*rodo\", \"******\"]\n",
    "#banned_id1 =[\"fr*d*\", \"*rodo\", \"******\", \"******\"]\n",
    "\n",
    "finding = True\n",
    "\n",
    "banned1 = [[len(user_id)+1 for i in range(len(user_id))]for j in range(len(banned_id1))]\n",
    "ban = 0\n",
    "answer_list =list()\n",
    "answer = 0"
   ]
  },
  {
   "cell_type": "code",
   "execution_count": 223,
   "metadata": {},
   "outputs": [],
   "source": [
    "def solution(user_id, banned_id):\n",
    "    answer = 0\n",
    "    return answer"
   ]
  },
  {
   "cell_type": "code",
   "execution_count": 283,
   "metadata": {
    "scrolled": true
   },
   "outputs": [],
   "source": [
    "for i in range(len(banned_id1)):\n",
    "    ban = 0\n",
    "    ch = []\n",
    "    for j in range(len(user_id)):\n",
    "        if len(user_id[j]) == len(banned_id1[i]):\n",
    "            finding = True\n",
    "            for a in range(len(user_id[j])):\n",
    "                if user_id[j][a] != banned_id1[i][a] and banned_id1[i][a] != \"*\":\n",
    "                    finding = False\n",
    "                    break\n",
    "            if finding == True:\n",
    "                ch += [j]\n",
    "                ban+=1\n",
    "    answer_list.append(ch)"
   ]
  },
  {
   "cell_type": "code",
   "execution_count": 284,
   "metadata": {},
   "outputs": [
    {
     "name": "stdout",
     "output_type": "stream",
     "text": [
      "[[0, 2], [0, 2], [3, 4]]\n"
     ]
    }
   ],
   "source": [
    "print(answer_list)\n"
   ]
  },
  {
   "cell_type": "code",
   "execution_count": 285,
   "metadata": {},
   "outputs": [],
   "source": [
    "from itertools import product"
   ]
  },
  {
   "cell_type": "code",
   "execution_count": 286,
   "metadata": {},
   "outputs": [],
   "source": [
    "a= list(product(*answer_list))\n",
    "a=list(set([tuple(set(i)) for i in a]))"
   ]
  },
  {
   "cell_type": "code",
   "execution_count": 291,
   "metadata": {},
   "outputs": [],
   "source": [
    "for i in range(len(a)):\n",
    "    if len(a[i]) ==len(banned_id1):\n",
    "        answer+=1"
   ]
  },
  {
   "cell_type": "code",
   "execution_count": 287,
   "metadata": {
    "scrolled": true
   },
   "outputs": [
    {
     "data": {
      "text/plain": [
       "[(0, 2, 3), (2, 4), (2, 3), (0, 4), (0, 3), (0, 2, 4)]"
      ]
     },
     "execution_count": 287,
     "metadata": {},
     "output_type": "execute_result"
    }
   ],
   "source": [
    "a"
   ]
  },
  {
   "cell_type": "code",
   "execution_count": 292,
   "metadata": {},
   "outputs": [
    {
     "data": {
      "text/plain": [
       "2"
      ]
     },
     "execution_count": 292,
     "metadata": {},
     "output_type": "execute_result"
    }
   ],
   "source": [
    "answer"
   ]
  },
  {
   "cell_type": "code",
   "execution_count": 179,
   "metadata": {},
   "outputs": [],
   "source": [
    "k= 10\n",
    "room=[]\n",
    "for i in range(1,k+1):\n",
    "    room.append(i)\n",
    "room_number = [1,3,4,1,3,1]\n",
    "answer = []"
   ]
  },
  {
   "cell_type": "code",
   "execution_count": 180,
   "metadata": {},
   "outputs": [],
   "source": [
    "for i in range(len(room_number)):\n",
    "    if room[room_number[i]-1] != 0 :\n",
    "        answer.append(room[room_number[i]-1])\n",
    "        room[room_number[i]-1] = 0\n",
    "    else:\n",
    "        for j in range(room_number[i]-1,k):\n",
    "            if room[j] != 0:\n",
    "                answer.append(room[j])\n",
    "                room[j] =0\n",
    "                break\n",
    "        "
   ]
  },
  {
   "cell_type": "code",
   "execution_count": 181,
   "metadata": {},
   "outputs": [
    {
     "name": "stdout",
     "output_type": "stream",
     "text": [
      "[0, 0, 0, 0, 0, 0, 7, 8, 9, 10]\n"
     ]
    }
   ],
   "source": [
    "print(room)"
   ]
  },
  {
   "cell_type": "code",
   "execution_count": 182,
   "metadata": {},
   "outputs": [
    {
     "name": "stdout",
     "output_type": "stream",
     "text": [
      "[1, 3, 4, 2, 5, 6]\n"
     ]
    }
   ],
   "source": [
    "print(answer)"
   ]
  },
  {
   "cell_type": "code",
   "execution_count": 258,
   "metadata": {},
   "outputs": [
    {
     "name": "stdout",
     "output_type": "stream",
     "text": [
      "[[0, 1], [0, 2], [3, 4], [3, 4]]\n"
     ]
    }
   ],
   "source": [
    "print(answer_list)\n"
   ]
  },
  {
   "cell_type": "code",
   "execution_count": null,
   "metadata": {},
   "outputs": [],
   "source": [
    "for i in range(len(banned_id1)):\n",
    "    for j in range(len(user_id)):\n",
    "        if banned[j][i] == 6:\n",
    "            break\n",
    "    "
   ]
  },
  {
   "cell_type": "code",
   "execution_count": 227,
   "metadata": {},
   "outputs": [
    {
     "ename": "TypeError",
     "evalue": "descriptor 'add' requires a 'set' object but received a 'list'",
     "output_type": "error",
     "traceback": [
      "\u001b[1;31m---------------------------------------------------------------------------\u001b[0m",
      "\u001b[1;31mTypeError\u001b[0m                                 Traceback (most recent call last)",
      "\u001b[1;32m<ipython-input-227-9264aa63a72b>\u001b[0m in \u001b[0;36m<module>\u001b[1;34m\u001b[0m\n\u001b[1;32m----> 1\u001b[1;33m \u001b[0mset\u001b[0m\u001b[1;33m.\u001b[0m\u001b[0madd\u001b[0m\u001b[1;33m(\u001b[0m\u001b[1;33m[\u001b[0m\u001b[1;36m2\u001b[0m\u001b[1;33m,\u001b[0m\u001b[1;36m1\u001b[0m\u001b[1;33m,\u001b[0m\u001b[1;36m0\u001b[0m\u001b[1;33m]\u001b[0m\u001b[1;33m)\u001b[0m\u001b[1;33m\u001b[0m\u001b[1;33m\u001b[0m\u001b[0m\n\u001b[0m",
      "\u001b[1;31mTypeError\u001b[0m: descriptor 'add' requires a 'set' object but received a 'list'"
     ]
    }
   ],
   "source": [
    "set.add([2,1,0])"
   ]
  },
  {
   "cell_type": "code",
   "execution_count": 242,
   "metadata": {},
   "outputs": [
    {
     "data": {
      "text/plain": [
       "<function list.sort(*, key=None, reverse=False)>"
      ]
     },
     "execution_count": 242,
     "metadata": {},
     "output_type": "execute_result"
    }
   ],
   "source": [
    "([2]+[1]).sort\n"
   ]
  },
  {
   "cell_type": "code",
   "execution_count": 243,
   "metadata": {},
   "outputs": [],
   "source": [
    "a=[3,6,2,1]"
   ]
  },
  {
   "cell_type": "code",
   "execution_count": 245,
   "metadata": {},
   "outputs": [],
   "source": [
    "a.sort()"
   ]
  },
  {
   "cell_type": "code",
   "execution_count": 246,
   "metadata": {},
   "outputs": [
    {
     "data": {
      "text/plain": [
       "[1, 2, 3, 6]"
      ]
     },
     "execution_count": 246,
     "metadata": {},
     "output_type": "execute_result"
    }
   ],
   "source": [
    "a"
   ]
  },
  {
   "cell_type": "code",
   "execution_count": 247,
   "metadata": {},
   "outputs": [],
   "source": [
    "a=[[2,1],[4,2],[1,2]]"
   ]
  },
  {
   "cell_type": "code",
   "execution_count": 248,
   "metadata": {},
   "outputs": [
    {
     "ename": "TypeError",
     "evalue": "unhashable type: 'list'",
     "output_type": "error",
     "traceback": [
      "\u001b[1;31m---------------------------------------------------------------------------\u001b[0m",
      "\u001b[1;31mTypeError\u001b[0m                                 Traceback (most recent call last)",
      "\u001b[1;32m<ipython-input-248-b6015e2b5b0d>\u001b[0m in \u001b[0;36m<module>\u001b[1;34m\u001b[0m\n\u001b[1;32m----> 1\u001b[1;33m \u001b[0mb\u001b[0m\u001b[1;33m=\u001b[0m \u001b[0mlist\u001b[0m\u001b[1;33m(\u001b[0m\u001b[0mset\u001b[0m\u001b[1;33m(\u001b[0m\u001b[0ma\u001b[0m\u001b[1;33m)\u001b[0m\u001b[1;33m)\u001b[0m\u001b[1;33m\u001b[0m\u001b[1;33m\u001b[0m\u001b[0m\n\u001b[0m",
      "\u001b[1;31mTypeError\u001b[0m: unhashable type: 'list'"
     ]
    }
   ],
   "source": [
    "b= list(set(a))"
   ]
  },
  {
   "cell_type": "code",
   "execution_count": null,
   "metadata": {},
   "outputs": [],
   "source": []
  }
 ],
 "metadata": {
  "kernelspec": {
   "display_name": "Python 3",
   "language": "python",
   "name": "python3"
  },
  "language_info": {
   "codemirror_mode": {
    "name": "ipython",
    "version": 3
   },
   "file_extension": ".py",
   "mimetype": "text/x-python",
   "name": "python",
   "nbconvert_exporter": "python",
   "pygments_lexer": "ipython3",
   "version": "3.7.4"
  }
 },
 "nbformat": 4,
 "nbformat_minor": 2
}
