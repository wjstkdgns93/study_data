{
 "cells": [
  {
   "cell_type": "code",
   "execution_count": 84,
   "metadata": {},
   "outputs": [],
   "source": [
    "v1 = [[1,4],[3,4],[3,10]]\n",
    "v2 = [[1,1],[2,2],[1,2]]\n",
    "answer_x =[]\n",
    "answer_y =[]\n",
    "answer_xy = list()\n",
    "answer = []"
   ]
  },
  {
   "cell_type": "code",
   "execution_count": 71,
   "metadata": {},
   "outputs": [
    {
     "data": {
      "text/plain": [
       "list"
      ]
     },
     "execution_count": 71,
     "metadata": {},
     "output_type": "execute_result"
    }
   ],
   "source": [
    "type([0])"
   ]
  },
  {
   "cell_type": "code",
   "execution_count": 85,
   "metadata": {},
   "outputs": [
    {
     "data": {
      "text/plain": [
       "[[1, 3, 3], [4, 4, 10]]"
      ]
     },
     "execution_count": 85,
     "metadata": {},
     "output_type": "execute_result"
    }
   ],
   "source": [
    "for i in range(3):\n",
    "    answer_x += [v1[i][0]]\n",
    "    answer_y += [v1[i][1]]\n",
    "\n",
    "answer_xy.append(answer_x)\n",
    "answer_xy.append(answer_y)\n",
    "answer_xy"
   ]
  },
  {
   "cell_type": "code",
   "execution_count": 86,
   "metadata": {},
   "outputs": [],
   "source": [
    "for i in range(2):\n",
    "    if answer_xy[i][0] != answer_xy[i][1] and answer_xy[i][0] != answer_xy[i][2]:\n",
    "        answer += [answer_xy[i][0]]\n",
    "    elif answer_xy[i][0] == answer_xy[i][1]:\n",
    "        answer += [answer_xy[i][2]]\n",
    "    else:\n",
    "        answer +=[answer_xy[i][1]]\n"
   ]
  },
  {
   "cell_type": "code",
   "execution_count": 53,
   "metadata": {},
   "outputs": [],
   "source": [
    "answer.clear()"
   ]
  },
  {
   "cell_type": "code",
   "execution_count": 87,
   "metadata": {},
   "outputs": [
    {
     "name": "stdout",
     "output_type": "stream",
     "text": [
      "[1, 3, 3] [4, 4, 10] [1, 10]\n"
     ]
    }
   ],
   "source": [
    "\n",
    "print(answer_x,answer_y,answer)"
   ]
  },
  {
   "cell_type": "code",
   "execution_count": null,
   "metadata": {},
   "outputs": [],
   "source": []
  }
 ],
 "metadata": {
  "kernelspec": {
   "display_name": "Python 3",
   "language": "python",
   "name": "python3"
  },
  "language_info": {
   "codemirror_mode": {
    "name": "ipython",
    "version": 3
   },
   "file_extension": ".py",
   "mimetype": "text/x-python",
   "name": "python",
   "nbconvert_exporter": "python",
   "pygments_lexer": "ipython3",
   "version": "3.7.4"
  }
 },
 "nbformat": 4,
 "nbformat_minor": 2
}
